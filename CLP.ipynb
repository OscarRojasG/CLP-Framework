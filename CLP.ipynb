{
  "nbformat": 4,
  "nbformat_minor": 0,
  "metadata": {
    "colab": {
      "provenance": [],
      "authorship_tag": "ABX9TyNHumhPGUzCLW6XMur0yLxi",
      "include_colab_link": true
    },
    "kernelspec": {
      "name": "python3",
      "display_name": "Python 3"
    },
    "language_info": {
      "name": "python"
    }
  },
  "cells": [
    {
      "cell_type": "markdown",
      "metadata": {
        "id": "view-in-github",
        "colab_type": "text"
      },
      "source": [
        "<a href=\"https://colab.research.google.com/github/OscarRojasG/CLP-Framework/blob/main/CLP.ipynb\" target=\"_parent\"><img src=\"https://colab.research.google.com/assets/colab-badge.svg\" alt=\"Open In Colab\"/></a>"
      ]
    },
    {
      "cell_type": "markdown",
      "source": [
        "# Generador de instancias\n",
        "\n",
        "Cada instancia se representa con el siguiente formato:\n",
        "\n",
        "```\n",
        "1                   # ID de la instancia\n",
        "587 233 220         # Dimensiones del contenedor (L W H)\n",
        "10                  # Número de tipos de cajas\n",
        "1 108 0 76 0 30 1 20\n",
        "2 110 0 43 1 25 1 11\n",
        "3 92 1 81 1 55 1 9\n",
        "4 81 0 33 1 28 1 9\n",
        "5 120 1 99 1 73 1 9\n",
        "6 111 0 70 1 48 1 13\n",
        "7 98 0 72 1 46 1 4\n",
        "8 95 0 66 0 31 1 12\n",
        "9 85 0 84 0 30 1 9\n",
        "10 71 0 32 1 25 1 10\n",
        "```\n",
        "\n",
        "Cada tipo de caja se describe en una línea con el siguiente formato:\n",
        "\n",
        "```\n",
        "id_caja  L  rotX  W  rotY  H  rotZ  cantidad\n",
        "1 108 0 76 0 30 1 20\n",
        "```\n",
        "\n",
        "Donde:\n",
        "\n",
        "* $L, W, H$ son las dimensiones de la caja\n",
        "* $rotX, rotY, rotZ$ es la factibilidad de que cada caja pueda ser rotada sobre los ejes X, Y, Z."
      ],
      "metadata": {
        "id": "A8ZDRgA3ic8m"
      }
    },
    {
      "cell_type": "code",
      "execution_count": 2,
      "metadata": {
        "id": "cl6rstS7eied"
      },
      "outputs": [],
      "source": [
        "from typing import List\n",
        "import random\n",
        "\n",
        "class BoxType:\n",
        "    def __init__(self, box_id, dims, rots, qty):\n",
        "        self.id = box_id        # identificador de la caja\n",
        "        self.dims = dims        # (L, W, H)\n",
        "        self.rots = rots        # (rotX, rotY, rotZ)\n",
        "        self.qty = qty          # cantidad de cajas\n",
        "\n",
        "\n",
        "class CLPInstance:\n",
        "    def __init__(self, container, boxes : list[BoxType]):\n",
        "        self.container = container  # (L, W, H)\n",
        "        self.n_types = len(boxes)\n",
        "        self.boxes = boxes          # lista de BoxType\n",
        "\n",
        "\n",
        "def instance(n_types=10, seed=None):\n",
        "    \"\"\"\n",
        "    Genera una sola instancia del CLP como objeto CLPInstance.\n",
        "    \"\"\"\n",
        "    if seed is not None:\n",
        "        random.seed(seed)\n",
        "\n",
        "    # Dimensiones del contenedor (fijas en este caso)\n",
        "    l, w, h = 587, 233, 220\n",
        "\n",
        "    # Límites de dimensiones de las cajas\n",
        "    alpha = [30, 25, 20]   # mínimo largo, ancho, alto\n",
        "    beta  = [120, 100, 80] # máximo largo, ancho, alto\n",
        "    L = 2  # constante de estabilidad\n",
        "\n",
        "    # Volumen del contenedor\n",
        "    tc = l * w * h\n",
        "\n",
        "    dimension_box = []\n",
        "    cantidad_box_type = []\n",
        "    volumen_box_type = []\n",
        "    orientacion_box = []\n",
        "\n",
        "    # Genera tipos de cajas\n",
        "    for i in range(n_types):\n",
        "        # Dimensiones aleatorias dentro de los rangos\n",
        "        r_j = [random.randint(alpha[j], beta[j]) for j in range(3)]\n",
        "        aux_dim = [alpha[j] + (r_j[j] % (beta[j] - alpha[j] + 1)) for j in range(3)]\n",
        "        dimension_box.append(aux_dim)\n",
        "\n",
        "        # Inicializa cantidad\n",
        "        cantidad_box_type.append(1)\n",
        "\n",
        "        # Volumen de la caja\n",
        "        volumen_box_type.append(aux_dim[0] * aux_dim[1] * aux_dim[2])\n",
        "\n",
        "        # Orientación factible según la constante L\n",
        "        min_dim = min(aux_dim)\n",
        "        aux_orient = [1 if aux_dim[j] / min_dim < L else 0 for j in range(3)]\n",
        "        orientacion_box.append(aux_orient)\n",
        "\n",
        "    # Rellena hasta que no quepa más\n",
        "    volumen_cargo = 0\n",
        "    while True:\n",
        "        volumen_cargo = sum(cantidad_box_type[i] * volumen_box_type[i] for i in range(n_types))\n",
        "        aux = random.randint(0, n_types - 1)\n",
        "        v_k = volumen_box_type[aux]\n",
        "        if tc > volumen_cargo + v_k:\n",
        "            cantidad_box_type[aux] += 1\n",
        "        else:\n",
        "            break\n",
        "\n",
        "    # Construye lista de BoxType\n",
        "    boxes = [\n",
        "        BoxType(i + 1, dimension_box[i], orientacion_box[i], cantidad_box_type[i])\n",
        "        for i in range(n_types)\n",
        "    ]\n",
        "\n",
        "    return CLPInstance(container=(l, w, h), boxes=boxes)\n",
        "\n",
        "\n",
        "def gen_instances(filename, n_instances=100, n_types=10, seed=None):\n",
        "    \"\"\"\n",
        "    Genera un archivo con varias instancias CLP en el formato definido.\n",
        "    \"\"\"\n",
        "    with open(filename, \"w\") as f:\n",
        "        # número total de instancias\n",
        "        f.write(str(n_instances) + \"\\n\")\n",
        "\n",
        "        for inst_id in range(1, n_instances + 1):\n",
        "            inst = instance(n_types=n_types, seed=(seed + inst_id) if seed is not None else None)\n",
        "\n",
        "            # encabezado de la instancia\n",
        "            f.write(f\"{inst_id}\\n\")\n",
        "            l, w, h = inst.container\n",
        "            f.write(f\"{l} {w} {h}\\n\")\n",
        "            f.write(f\"{inst.n_types}\\n\")\n",
        "\n",
        "            # tipos de cajas\n",
        "            for i, box in enumerate(inst.boxes):\n",
        "                Lc, Wc, Hc = box.dims\n",
        "                rotX, rotY, rotZ = box.rots\n",
        "                qty = box.qty\n",
        "\n",
        "                if inst_id == n_instances and i == len(inst.boxes) - 1:\n",
        "                    f.write(f\"{box.id} {Lc} {rotX} {Wc} {rotY} {Hc} {rotZ} {qty}\")\n",
        "                else:\n",
        "                    f.write(f\"{box.id} {Lc} {rotX} {Wc} {rotY} {Hc} {rotZ} {qty}\\n\")\n",
        "\n",
        "def read_instances(filename) -> list[CLPInstance]:\n",
        "    \"\"\"\n",
        "    Lee un archivo de instancias CLP y devuelve una lista de objetos CLPInstance.\n",
        "    \"\"\"\n",
        "    instances = []\n",
        "    with open(filename, \"r\") as f:\n",
        "        # número total de instancias\n",
        "        n_instances = int(f.readline().strip())\n",
        "\n",
        "        for _ in range(n_instances):\n",
        "            inst_id = int(f.readline().split()[0])  # id de la instancia\n",
        "\n",
        "            # dimensiones del contenedor\n",
        "            l, w, h = map(int, f.readline().split())\n",
        "\n",
        "            # número de tipos de cajas\n",
        "            n_types = int(f.readline().strip())\n",
        "\n",
        "            boxes = []\n",
        "            for _ in range(n_types):\n",
        "                parts = f.readline().split()\n",
        "                box_id = int(parts[0])\n",
        "                Lc = int(parts[1])\n",
        "                rotX = int(parts[2])\n",
        "                Wc = int(parts[3])\n",
        "                rotY = int(parts[4])\n",
        "                Hc = int(parts[5])\n",
        "                rotZ = int(parts[6])\n",
        "                qty = int(parts[7])\n",
        "\n",
        "                boxes.append(BoxType(box_id, (Lc, Wc, Hc), (rotX, rotY, rotZ), qty))\n",
        "\n",
        "            instances.append(CLPInstance(container=(l, w, h), boxes=boxes))\n",
        "\n",
        "    return instances"
      ]
    },
    {
      "cell_type": "code",
      "source": [
        "gen_instances(\"prueba.txt\", n_instances=5, n_types=10, seed=1)\n",
        "read_instances(\"prueba.txt\")"
      ],
      "metadata": {
        "colab": {
          "base_uri": "https://localhost:8080/"
        },
        "id": "Wcky6zU6n6Rc",
        "outputId": "604f565f-0e81-4519-d903-8099937b1b5c"
      },
      "execution_count": 3,
      "outputs": [
        {
          "output_type": "execute_result",
          "data": {
            "text/plain": [
              "[<__main__.CLPInstance at 0x784d357f0470>,\n",
              " <__main__.CLPInstance at 0x784d3497ee70>,\n",
              " <__main__.CLPInstance at 0x784d3497f170>,\n",
              " <__main__.CLPInstance at 0x784d3497f920>,\n",
              " <__main__.CLPInstance at 0x784d3497fd40>]"
            ]
          },
          "metadata": {},
          "execution_count": 3
        }
      ]
    },
    {
      "cell_type": "markdown",
      "source": [
        "# BSG-VCS & Generación de datos\n",
        "\n",
        "Al ejecutar\n",
        "\n",
        "```\n",
        "./BSG_CLP prueba.txt -i 1 -t 10 --verbose2=5 > output.txt\n",
        "```\n",
        "\n",
        "se guardarán los bloques seleccionados por BSG para construir la solución, en conjunto con los $m=5$ bloques más prometedores para cada estado:\n",
        "\n",
        "```\n",
        "selected block:686 space:(362,0,103)\n",
        "  action block:686 eval: 752760 0.024314749 0.85935438 0.16666667 279914.38\n",
        "  action block:600 eval: 752760 0.1954876 0.76418638 0.16666667 144329.86\n",
        "  action block:147 eval: 376380 0.024314749 0.79643276 0.33333333 118606.5\n",
        "  action block:149 eval: 501840 0.024314749 0.73896542 0.25 110652.05\n",
        "  action block:123 eval: 501840 0.11661384 0.74613438 0.25 104129.09\n",
        "```\n",
        "\n",
        "Los valores a continuación de `eval` indican las métricas:\n",
        "\n",
        "```\n",
        "eval: V Loss CS 1/n VCS\n",
        "```\n",
        "\n",
        "Nótese que en algunos casos, el bloque elegido por BSG no está dentro de los $m$ más prometedores. Estos casos son de particular relevancia ya que la heurística \"falla\" en su evaluación. En estos casos se imprime un sexto bloque:\n",
        "\n",
        "```\n",
        "selected block:141 space:(282,169,113)\n",
        "  action block:2318 eval: 825600 0.068243858 0.68818263 0.2 125052.61\n",
        "  action block:550 eval: 495360 0.041233657 0.66613802 0.33333333 75069.99\n",
        "  action block:553 eval: 660480 0.055983909 0.60071472 0.25 61531.879\n",
        "  action block:568 eval: 660480 0.26440305 0.61178143 0.25 51578.982\n",
        "  action block:17 eval: 194532 0.007518797 0.70680679 1 48185.48\n",
        "  action block:141 eval: 330240 0.01910828 0.62544895 0.5 43153.121\n",
        "```\n"
      ],
      "metadata": {
        "id": "cHQY-PhzGt0i"
      }
    },
    {
      "cell_type": "code",
      "source": [
        "%cd /content\n",
        "!chmod +x BSG_CLP\n",
        "!./BSG_CLP prueba.txt -i 1 -t 10 --verbose2=5 > output.txt"
      ],
      "metadata": {
        "colab": {
          "base_uri": "https://localhost:8080/"
        },
        "id": "rzl2DNQRUEh4",
        "outputId": "baf002cd-3dd2-47f6-d783-add396706241"
      },
      "execution_count": 16,
      "outputs": [
        {
          "output_type": "stream",
          "name": "stdout",
          "text": [
            "/content\n"
          ]
        }
      ]
    }
  ]
}