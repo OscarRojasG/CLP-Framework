{
  "cells": [
    {
      "cell_type": "markdown",
      "metadata": {
        "id": "view-in-github",
        "colab_type": "text"
      },
      "source": [
        "<a href=\"https://colab.research.google.com/github/OscarRojasG/CLP-Framework/blob/main/CLP.ipynb\" target=\"_parent\"><img src=\"https://colab.research.google.com/assets/colab-badge.svg\" alt=\"Open In Colab\"/></a>"
      ]
    },
    {
      "cell_type": "markdown",
      "metadata": {
        "id": "A8ZDRgA3ic8m"
      },
      "source": [
        "# Generador de instancias\n",
        "\n",
        "Cada instancia se representa con el siguiente formato:\n",
        "\n",
        "```\n",
        "1                   # ID de la instancia\n",
        "587 233 220         # Dimensiones del contenedor (L W H)\n",
        "10                  # Número de tipos de cajas\n",
        "1 108 0 76 0 30 1 20\n",
        "2 110 0 43 1 25 1 11\n",
        "3 92 1 81 1 55 1 9\n",
        "4 81 0 33 1 28 1 9\n",
        "5 120 1 99 1 73 1 9\n",
        "6 111 0 70 1 48 1 13\n",
        "7 98 0 72 1 46 1 4\n",
        "8 95 0 66 0 31 1 12\n",
        "9 85 0 84 0 30 1 9\n",
        "10 71 0 32 1 25 1 10\n",
        "```\n",
        "\n",
        "Cada tipo de caja se describe en una línea con el siguiente formato:\n",
        "\n",
        "```\n",
        "id_caja  L  rotX  W  rotY  H  rotZ  cantidad\n",
        "1 108 0 76 0 30 1 20\n",
        "```\n",
        "\n",
        "Donde:\n",
        "\n",
        "* $L, W, H$ son las dimensiones de la caja\n",
        "* $rotX, rotY, rotZ$ es la factibilidad de que cada caja pueda ser rotada sobre los ejes X, Y, Z."
      ]
    },
    {
      "cell_type": "code",
      "execution_count": null,
      "metadata": {
        "id": "cl6rstS7eied"
      },
      "outputs": [],
      "source": [
        "from typing import List\n",
        "import random\n",
        "\n",
        "class BoxType:\n",
        "    def __init__(self, box_id, dims, rots, qty):\n",
        "        self.id = box_id        # identificador de la caja\n",
        "        self.dims = dims        # (L, W, H)\n",
        "        self.rots = rots        # (rotX, rotY, rotZ)\n",
        "        self.qty = qty          # cantidad de cajas\n",
        "\n",
        "\n",
        "class CLPInstance:\n",
        "    def __init__(self, container, boxes : list[BoxType]):\n",
        "        self.container = container  # (L, W, H)\n",
        "        self.n_types = len(boxes)\n",
        "        self.boxes = boxes          # lista de BoxType\n",
        "\n",
        "\n",
        "def instance(n_types=10, seed=None):\n",
        "    \"\"\"\n",
        "    Genera una sola instancia del CLP como objeto CLPInstance.\n",
        "    \"\"\"\n",
        "    if seed is not None:\n",
        "        random.seed(seed)\n",
        "\n",
        "    # Dimensiones del contenedor (fijas en este caso)\n",
        "    l, w, h = 587, 233, 220\n",
        "\n",
        "    # Límites de dimensiones de las cajas\n",
        "    alpha = [30, 25, 20]   # mínimo largo, ancho, alto\n",
        "    beta  = [120, 100, 80] # máximo largo, ancho, alto\n",
        "    L = 2  # constante de estabilidad\n",
        "\n",
        "    # Volumen del contenedor\n",
        "    tc = l * w * h\n",
        "\n",
        "    dimension_box = []\n",
        "    cantidad_box_type = []\n",
        "    volumen_box_type = []\n",
        "    orientacion_box = []\n",
        "\n",
        "    # Genera tipos de cajas\n",
        "    for i in range(n_types):\n",
        "        # Dimensiones aleatorias dentro de los rangos\n",
        "        r_j = [random.randint(alpha[j], beta[j]) for j in range(3)]\n",
        "        aux_dim = [alpha[j] + (r_j[j] % (beta[j] - alpha[j] + 1)) for j in range(3)]\n",
        "        dimension_box.append(aux_dim)\n",
        "\n",
        "        # Inicializa cantidad\n",
        "        cantidad_box_type.append(1)\n",
        "\n",
        "        # Volumen de la caja\n",
        "        volumen_box_type.append(aux_dim[0] * aux_dim[1] * aux_dim[2])\n",
        "\n",
        "        # Orientación factible según la constante L\n",
        "        min_dim = min(aux_dim)\n",
        "        aux_orient = [1 if aux_dim[j] / min_dim < L else 0 for j in range(3)]\n",
        "        orientacion_box.append(aux_orient)\n",
        "\n",
        "    # Rellena hasta que no quepa más\n",
        "    volumen_cargo = 0\n",
        "    while True:\n",
        "        volumen_cargo = sum(cantidad_box_type[i] * volumen_box_type[i] for i in range(n_types))\n",
        "        aux = random.randint(0, n_types - 1)\n",
        "        v_k = volumen_box_type[aux]\n",
        "        if tc > volumen_cargo + v_k:\n",
        "            cantidad_box_type[aux] += 1\n",
        "        else:\n",
        "            break\n",
        "\n",
        "    # Construye lista de BoxType\n",
        "    boxes = [\n",
        "        BoxType(i + 1, dimension_box[i], orientacion_box[i], cantidad_box_type[i])\n",
        "        for i in range(n_types)\n",
        "    ]\n",
        "\n",
        "    return CLPInstance(container=(l, w, h), boxes=boxes)\n",
        "\n",
        "\n",
        "def gen_instances(filename, n_instances=100, n_types=10, seed=None):\n",
        "    \"\"\"\n",
        "    Genera un archivo con varias instancias CLP en el formato definido.\n",
        "    \"\"\"\n",
        "    with open(filename, \"w\") as f:\n",
        "        # número total de instancias\n",
        "        f.write(str(n_instances) + \"\\n\")\n",
        "\n",
        "        for inst_id in range(1, n_instances + 1):\n",
        "            inst = instance(n_types=n_types, seed=(seed + inst_id) if seed is not None else None)\n",
        "\n",
        "            # encabezado de la instancia\n",
        "            f.write(f\"{inst_id}\\n\")\n",
        "            l, w, h = inst.container\n",
        "            f.write(f\"{l} {w} {h}\\n\")\n",
        "            f.write(f\"{inst.n_types}\\n\")\n",
        "\n",
        "            # tipos de cajas\n",
        "            for i, box in enumerate(inst.boxes):\n",
        "                Lc, Wc, Hc = box.dims\n",
        "                rotX, rotY, rotZ = box.rots\n",
        "                qty = box.qty\n",
        "\n",
        "                if inst_id == n_instances and i == len(inst.boxes) - 1:\n",
        "                    f.write(f\"{box.id} {Lc} {rotX} {Wc} {rotY} {Hc} {rotZ} {qty}\")\n",
        "                else:\n",
        "                    f.write(f\"{box.id} {Lc} {rotX} {Wc} {rotY} {Hc} {rotZ} {qty}\\n\")\n",
        "\n",
        "def read_instances(filename) -> list[CLPInstance]:\n",
        "    \"\"\"\n",
        "    Lee un archivo de instancias CLP y devuelve una lista de objetos CLPInstance.\n",
        "    \"\"\"\n",
        "    instances = []\n",
        "    with open(filename, \"r\") as f:\n",
        "        # número total de instancias\n",
        "        n_instances = int(f.readline().strip())\n",
        "\n",
        "        for _ in range(n_instances):\n",
        "            inst_id = int(f.readline().split()[0])  # id de la instancia\n",
        "\n",
        "            # dimensiones del contenedor\n",
        "            l, w, h = map(int, f.readline().split())\n",
        "\n",
        "            # número de tipos de cajas\n",
        "            n_types = int(f.readline().strip())\n",
        "\n",
        "            boxes = []\n",
        "            for _ in range(n_types):\n",
        "                parts = f.readline().split()\n",
        "                box_id = int(parts[0])\n",
        "                Lc = int(parts[1])\n",
        "                rotX = int(parts[2])\n",
        "                Wc = int(parts[3])\n",
        "                rotY = int(parts[4])\n",
        "                Hc = int(parts[5])\n",
        "                rotZ = int(parts[6])\n",
        "                qty = int(parts[7])\n",
        "\n",
        "                boxes.append(BoxType(box_id, (Lc, Wc, Hc), (rotX, rotY, rotZ), qty))\n",
        "\n",
        "            instances.append(CLPInstance(container=(l, w, h), boxes=boxes))\n",
        "\n",
        "    return instances"
      ]
    },
    {
      "cell_type": "code",
      "execution_count": null,
      "metadata": {
        "colab": {
          "base_uri": "https://localhost:8080/"
        },
        "id": "Wcky6zU6n6Rc",
        "outputId": "64218247-c127-4541-e64c-a7a38d36dbb6"
      },
      "outputs": [
        {
          "data": {
            "text/plain": [
              "[<__main__.CLPInstance at 0x7bef15643800>,\n",
              " <__main__.CLPInstance at 0x7bef156722d0>,\n",
              " <__main__.CLPInstance at 0x7bef156723c0>,\n",
              " <__main__.CLPInstance at 0x7bef15672a50>,\n",
              " <__main__.CLPInstance at 0x7bef156730b0>]"
            ]
          },
          "execution_count": 3,
          "metadata": {},
          "output_type": "execute_result"
        }
      ],
      "source": [
        "gen_instances(\"prueba.txt\", n_instances=5, n_types=10, seed=1)\n",
        "read_instances(\"prueba.txt\")"
      ]
    },
    {
      "cell_type": "markdown",
      "metadata": {
        "id": "cHQY-PhzGt0i"
      },
      "source": [
        "# BSG-VCS\n",
        "\n",
        "Al ejecutar\n",
        "\n",
        "```\n",
        "./BSG_CLP prueba.txt -i 1 -t 10 --verbose2=5 > output.txt\n",
        "```\n",
        "\n",
        "se guardarán los bloques seleccionados por BSG para construir la solución, en conjunto con los $m=5$ bloques más prometedores para cada estado:\n",
        "\n",
        "```\n",
        "selected block:686 space:(362,0,103)\n",
        "  action block:686 eval: 752760 0.024314749 0.85935438 0.16666667 279914.38\n",
        "  action block:600 eval: 752760 0.1954876 0.76418638 0.16666667 144329.86\n",
        "  action block:147 eval: 376380 0.024314749 0.79643276 0.33333333 118606.5\n",
        "  action block:149 eval: 501840 0.024314749 0.73896542 0.25 110652.05\n",
        "  action block:123 eval: 501840 0.11661384 0.74613438 0.25 104129.09\n",
        "```\n",
        "\n",
        "Los valores a continuación de `eval` indican las métricas:\n",
        "\n",
        "```\n",
        "eval: V Loss CS 1/n VCS\n",
        "```\n",
        "\n",
        "Nótese que en algunos casos, el bloque elegido por BSG no está dentro de los $m$ más prometedores. Estos casos son de particular relevancia ya que la heurística \"falla\" en su evaluación. En estos casos se imprime un sexto bloque:\n",
        "\n",
        "```\n",
        "selected block:141 space:(282,169,113)\n",
        "  action block:2318 eval: 825600 0.068243858 0.68818263 0.2 125052.61\n",
        "  action block:550 eval: 495360 0.041233657 0.66613802 0.33333333 75069.99\n",
        "  action block:553 eval: 660480 0.055983909 0.60071472 0.25 61531.879\n",
        "  action block:568 eval: 660480 0.26440305 0.61178143 0.25 51578.982\n",
        "  action block:17 eval: 194532 0.007518797 0.70680679 1 48185.48\n",
        "  action block:141 eval: 330240 0.01910828 0.62544895 0.5 43153.121\n",
        "```\n"
      ]
    },
    {
      "cell_type": "code",
      "execution_count": null,
      "metadata": {
        "colab": {
          "base_uri": "https://localhost:8080/"
        },
        "id": "rzl2DNQRUEh4",
        "outputId": "cd5ab6f4-26d2-4cc4-cd4a-b5ba6d89ae5f"
      },
      "outputs": [
        {
          "name": "stdout",
          "output_type": "stream",
          "text": [
            "/content\n",
            "Flag could not be matched: 't'\n",
            "  ./BSG_CLP {OPTIONS} [instance-set]\n",
            "\n",
            "    ********* BSG-CLP *********.\n",
            "\n",
            "  OPTIONS:\n",
            "\n",
            "      -h, --help                        Display this help menu\n",
            "      -i[int]                           Instance\n",
            "      -f[string]                        Format: (BR, BRw, 1C)\n",
            "      --min_fr=[double]                 Minimum volume occupied by a block\n",
            "                                        (proportion)\n",
            "      -w[int]                           Beam width (nodes per level)\n",
            "      --seed=[int]                      Random seed\n",
            "      --alpha=[double]                  Alpha parameter\n",
            "      --beta=[double]                   Beta parameter\n",
            "      --gamma=[double]                  Gamma parameter\n",
            "      --delta=[double]                  Delta parameter\n",
            "      -p[double]                        p parameter\n",
            "      --json                            json output tuple\n",
            "      --verbose                         Show the actions to reach the solution\n",
            "      --verbose2=[layout]               Verbose v2\n",
            "      --plot                            plot tree\n",
            "      --fsb                             full-support blocks\n",
            "      --trace                           Trace\n",
            "      instance-set                      The name of the instance set\n",
            "      \"--\" can be used to terminate flag options and force all following\n",
            "      arguments to be treated as positional options\n",
            "\n",
            "    BSG Solver for CLP.\n"
          ]
        }
      ],
      "source": [
        "%cd /content\n",
        "!chmod +x BSG_CLP\n",
        "!./BSG_CLP prueba.txt -i 1 -t 10 --verbose2=500 > output.txt"
      ]
    },
    {
      "cell_type": "code",
      "execution_count": 1,
      "metadata": {
        "id": "OHtNanXVuQxh"
      },
      "outputs": [],
      "source": [
        "import re\n",
        "\n",
        "def parse_file(file_path):\n",
        "    results = []\n",
        "    current_block = None\n",
        "\n",
        "    re_selected = re.compile(r\"selected block:(\\d+)\\s+space:\\((\\d+),(\\d+),(\\d+)\\)\")\n",
        "    re_action = re.compile(r\"action block:(\\d+)\\s+eval:\\s+([0-9eE+.\\s\\-infINF]+)\")\n",
        "\n",
        "    # Abrimos el archivo y leemos su contenido\n",
        "    with open(file_path, 'r') as f:\n",
        "        for line in f:\n",
        "            line = line.strip()\n",
        "            if not line:\n",
        "                continue\n",
        "\n",
        "            # selected block\n",
        "            m_sel = re_selected.match(line)\n",
        "            if m_sel:\n",
        "                if current_block:\n",
        "                    results.append(current_block)\n",
        "                block_id = int(m_sel.group(1))\n",
        "                coords = tuple(map(int, m_sel.groups()[1:]))\n",
        "                current_block = (block_id, coords, [])\n",
        "                continue\n",
        "\n",
        "            # action block\n",
        "            m_act = re_action.match(line)\n",
        "            if m_act and current_block:\n",
        "                act_id = int(m_act.group(1))\n",
        "                tokens = m_act.group(2).split()\n",
        "                nums = []\n",
        "                for tok in tokens:\n",
        "                    try:\n",
        "                        nums.append(float(tok))\n",
        "                    except ValueError:\n",
        "                        # fallback por si aparece algo inesperado\n",
        "                        nums.append(float(\"nan\"))\n",
        "                current_block[2].append((act_id, nums))\n",
        "\n",
        "    if current_block:\n",
        "        results.append(current_block)\n",
        "\n",
        "    return results\n",
        "\n",
        "\n",
        "\n",
        "from collections import Counter\n",
        "\n",
        "def selected_block_positions(data):\n",
        "    positions = []\n",
        "\n",
        "    for sel_id, coords, actions in data:\n",
        "        for idx, (act_id, _) in enumerate(actions, start=1):  # índice 1-based\n",
        "            if act_id == sel_id:\n",
        "                positions.append(idx)\n",
        "                break  # solo interesa la primera coincidencia\n",
        "\n",
        "    # contamos frecuencia de cada posición\n",
        "    freq = Counter(positions)\n",
        "\n",
        "    # rango completo de 1 .. max\n",
        "    max_pos = max(freq) if freq else 0\n",
        "    result = [(i, freq.get(i, 0)) for i in range(1, max_pos + 1)]\n",
        "\n",
        "    return result\n",
        "\n",
        "\n",
        "\n",
        "def expand_to_x(arr, x):\n",
        "    # Usamos un diccionario para mapear ids a sus frecuencias\n",
        "    expanded_dict = dict(arr)\n",
        "\n",
        "    # Asegurarse de que todos los ids hasta x estén presentes\n",
        "    for i in range(1, x + 1):\n",
        "        if i not in expanded_dict:\n",
        "            expanded_dict[i] = 0\n",
        "\n",
        "    # Convertimos el diccionario de nuevo a una lista de tuplas y la ordenamos\n",
        "    expanded_arr = sorted(expanded_dict.items())\n",
        "\n",
        "    return expanded_arr\n",
        "\n",
        "\n",
        "import subprocess\n",
        "import os\n",
        "\n",
        "def run_instance(exe_path, file_path, i, w, output_path=None):\n",
        "    \"\"\"Ejecuta BSG_CLP para una instancia y guarda la salida en un archivo .out dentro de una carpeta específica o en la misma ruta que file_path\"\"\"\n",
        "\n",
        "    # Si output_path es None, usar la misma carpeta que file_path\n",
        "    if output_path is None:\n",
        "        output_path = os.path.dirname(file_path)\n",
        "\n",
        "    # Obtener el nombre base de file_path sin la extensión\n",
        "    base_filename = os.path.splitext(os.path.basename(file_path))[0]\n",
        "\n",
        "    # Generar el nombre del archivo de salida con 'i' y extensión .out\n",
        "    output_file_path = os.path.join(output_path, f\"{base_filename}-{i}.out\")\n",
        "\n",
        "    # Ejecutar el proceso y capturar la salida\n",
        "    proc = subprocess.run(\n",
        "        [exe_path, file_path, \"-i\", str(i), \"-w\", str(w), f\"--verbose2={str(w*w)}\"],\n",
        "        stdout=subprocess.PIPE,\n",
        "        stderr=subprocess.DEVNULL,\n",
        "        check=True,\n",
        "        text=True\n",
        "    )\n",
        "\n",
        "    # Guardar la salida en el archivo de salida\n",
        "    with open(output_file_path, 'w') as f:\n",
        "        f.write(proc.stdout)\n",
        "\n",
        "\n",
        "\n",
        "from concurrent.futures import ProcessPoolExecutor\n",
        "\n",
        "def run_file_instances_parallel(file_path, exe_path=\"./BSG_CLP\", w=8, max_workers=None):\n",
        "    # Leer número de instancias\n",
        "    with open(file_path, \"r\") as f:\n",
        "        num_instances = int(f.readline().strip())\n",
        "\n",
        "    # Crear la carpeta de salida con el nombre del archivo (sin la extensión) y añadir \".out\" al final\n",
        "    output_folder = os.path.splitext(os.path.basename(file_path))[0] + \".out\"  # Usamos el nombre del archivo sin la extensión y añadimos \".out\"\n",
        "    os.makedirs(output_folder, exist_ok=True)  # Crear la carpeta si no existe\n",
        "\n",
        "    # Ejecutar las instancias en paralelo\n",
        "    with ProcessPoolExecutor(max_workers=max_workers) as executor:\n",
        "        for i in range(num_instances):\n",
        "            executor.submit(run_instance, exe_path, file_path, i, w, output_folder)\n",
        "\n",
        "\n",
        "import matplotlib.pyplot as plt\n",
        "import numpy as np\n",
        "\n",
        "def plot_cumulative_percentage(result):\n",
        "    # Convertir a arrays\n",
        "    positions = np.array([pos for pos, _ in result])\n",
        "    freqs = np.array([freq for _, freq in result])\n",
        "\n",
        "    # Frecuencia acumulada porcentual\n",
        "    cum_freq = np.cumsum(freqs)\n",
        "    cum_percent = cum_freq / cum_freq[-1] * 100\n",
        "\n",
        "    # Graficar\n",
        "    plt.figure(figsize=(8, 5))\n",
        "    plt.plot(positions, cum_percent)\n",
        "    plt.xticks(range(0, positions.max() + 10, 10))\n",
        "    plt.xlabel(\"Posición\")\n",
        "    plt.ylabel(\"Frecuencia acumulada (%)\")\n",
        "    plt.title(\"Frecuencia acumulada porcentual por posición\")\n",
        "    plt.grid(True, linestyle=\"--\", alpha=0.6)\n",
        "    plt.tight_layout()\n",
        "    plt.show()\n",
        "\n",
        "\n",
        "import os\n",
        "from collections import defaultdict\n",
        "from math import log, inf\n",
        "\n",
        "def accumulate_results_from_folder(folder_path):\n",
        "    # Usamos un defaultdict para acumular los contadores\n",
        "    total_counts = defaultdict(int)\n",
        "\n",
        "    # Iterar sobre todos los archivos en la carpeta\n",
        "    for filename in os.listdir(folder_path):\n",
        "        file_path = os.path.join(folder_path, filename)\n",
        "\n",
        "        # Verificar si es un archivo y si termina en \".out\" (puedes ajustarlo si es necesario)\n",
        "        if os.path.isfile(file_path) and file_path.endswith(\".out\"):\n",
        "            # Parsear el archivo y obtener el resultado\n",
        "            data = parse_file(file_path)\n",
        "            result = selected_block_positions(data)\n",
        "\n",
        "            # Acumular los resultados\n",
        "            for block_id, count in result:\n",
        "                total_counts[block_id] += count\n",
        "\n",
        "    # Convertir el defaultdict en una lista de tuplas ordenada por 'id'\n",
        "    accumulated_result = sorted(total_counts.items())\n",
        "\n",
        "    return accumulated_result\n",
        "\n",
        "\n",
        "import numpy as np\n",
        "from math import log\n",
        "\n",
        "def generate_train_data(data, pad=64):\n",
        "    X = []  # Para los datos de entrenamiento\n",
        "    Y = []  # Para las predicciones (vectores one-hot)\n",
        "    block_ids = []  # Para las ids de los bloques\n",
        "\n",
        "    # Recorremos cada bloque\n",
        "    for block in data:\n",
        "        # Extraemos las características del bloque (el tercer elemento en cada bloque)\n",
        "        features = [entry[1][:4] for entry in block[2]]  # Obtiene las características de cada tupla en el bloque\n",
        "\n",
        "        # Rellenamos con ceros si el número de características es menor que pad\n",
        "        while len(features) < pad:\n",
        "            features.append([0.0] * len(features[0]))  # Añadir una lista de ceros de la misma longitud que las características\n",
        "\n",
        "        # Añadimos las características de este bloque a X\n",
        "        X.append(features[:pad])  # Aseguramos que no se sobrepasen los \"pad\" elementos\n",
        "\n",
        "        # Extraemos el id del bloque (primer valor de la tupla)\n",
        "        block_id = block[0]\n",
        "\n",
        "        # Crear el vector one-hot para Y\n",
        "        one_hot = [0] * pad  # Inicializa un vector con ceros\n",
        "\n",
        "        # Encontrar la posición de block_id en las tuplas de cada bloque\n",
        "        for i, entry in enumerate(block[2]):\n",
        "            if entry[0] == block_id:  # Compara el id de la tupla con el id del bloque\n",
        "                one_hot[i] = 1  # Marca la posición correspondiente en el vector one-hot\n",
        "                break\n",
        "\n",
        "        # Rellenamos con ceros si la longitud de one_hot es menor que pad\n",
        "        while len(one_hot) < pad:\n",
        "            one_hot.append(0)  # Añadir ceros al final si hace falta\n",
        "\n",
        "        # Añadir el vector one-hot a Y\n",
        "        Y.append(one_hot[:pad])  # Aseguramos que no se sobrepasen los \"pad\" elementos\n",
        "\n",
        "        # Añadir las ids del bloque a block_ids y rellenar con ceros si es necesario\n",
        "        ids = [entry[0] for entry in block[2]]  # Extrae solo el ID de cada tupla\n",
        "        while len(ids) < pad:\n",
        "            ids.append(0)  # Rellenar con ceros hasta alcanzar \"pad\"\n",
        "        block_ids.append(ids[:pad])  # Aseguramos que no se sobrepasen los \"pad\" elementos\n",
        "\n",
        "    return X, Y, block_ids\n",
        "\n",
        "\n",
        "import os\n",
        "import pickle\n",
        "\n",
        "def generate_data_from_folder(folder_path, pad=64):\n",
        "    all_X = []  # Lista para almacenar todos los datos de entrenamiento\n",
        "    all_Y = []  # Lista para almacenar todos los vectores one-hot\n",
        "    all_block_ids = []  # Lista para almacenar todos los block_ids\n",
        "\n",
        "    # Iterar sobre todos los archivos en la carpeta\n",
        "    for filename in os.listdir(folder_path):\n",
        "        file_path = os.path.join(folder_path, filename)\n",
        "\n",
        "        if os.path.isfile(file_path):  # Solo procesar archivos (no directorios)\n",
        "            # Parsear el archivo\n",
        "            data = parse_file(file_path)\n",
        "\n",
        "            # Generar los datos de entrenamiento\n",
        "            X, Y, block_ids = generate_train_data(data, pad=pad)\n",
        "\n",
        "            # Agregar los datos del archivo actual a las listas generales\n",
        "            all_X.extend(X)\n",
        "            all_Y.extend(Y)\n",
        "            all_block_ids.extend(block_ids)\n",
        "\n",
        "    # Definir el nombre del archivo de salida basado en el nombre de la carpeta\n",
        "    folder_name = os.path.basename(folder_path)  # Obtiene el nombre de la carpeta\n",
        "    output_filename = folder_name.split('.')[0] + \".data\"  # Eliminar la extensión .out si está presente y agregar .data\n",
        "    output_path = os.path.join(os.path.dirname(folder_path), output_filename)  # Guardar el archivo en el nivel superior\n",
        "\n",
        "    # Guardar los datos en el archivo (en este caso, usaremos pickle para guardar en formato binario)\n",
        "    with open(output_path, \"wb\") as f:\n",
        "        pickle.dump({\"X\": all_X, \"Y\": all_Y, \"block_ids\": all_block_ids}, f)\n",
        "\n",
        "    print(f\"Datos guardados en: {output_path}\")\n",
        "    return output_path\n",
        "\n",
        "\n",
        "def load_data_from_file(file_path):\n",
        "    # Abrir el archivo .data y cargar los datos\n",
        "    with open(file_path, \"rb\") as f:\n",
        "        data = pickle.load(f)\n",
        "\n",
        "    # Extraer X, Y y block_ids\n",
        "    X = data[\"X\"]\n",
        "    Y = data[\"Y\"]\n",
        "    block_ids = data[\"block_ids\"]\n",
        "\n",
        "    return X, Y, block_ids\n",
        "\n",
        "\n",
        "def split_and_save_datasets(file_path, cuts, output_path):\n",
        "    \"\"\"Separa los datos en varios datasets según los cortes y guarda en archivos .data\"\"\"\n",
        "\n",
        "    # Añadir un \"1\" al principio del arreglo cuts para asegurar que el primer dataset sea considerado\n",
        "    cuts = [1] + cuts\n",
        "\n",
        "    # Asegurarse de que la carpeta de salida exista\n",
        "    if not os.path.exists(output_path):\n",
        "        os.makedirs(output_path)\n",
        "\n",
        "    # Cargar los datos desde el archivo .data\n",
        "    print(f\"Procesando archivo: {file_path}\")\n",
        "    X, Y, block_ids = load_data_from_file(file_path)\n",
        "\n",
        "    # Crear un diccionario para almacenar los datasets\n",
        "    datasets = {i: {\"X\": [], \"Y\": [], \"block_ids\": []} for i in range(1, len(cuts))}\n",
        "\n",
        "    # Separar los datos según los cortes\n",
        "    for i, y_vector in enumerate(Y):\n",
        "        pos = y_vector.index(1)  # Encontrar la posición del 1 en el vector one-hot\n",
        "\n",
        "        # Asignar el dato al dataset correspondiente según el corte\n",
        "        for j in range(len(cuts)-1):\n",
        "            if pos < cuts[j+1]:\n",
        "                datasets[j + 1][\"X\"].append(X[i])\n",
        "                datasets[j + 1][\"Y\"].append(Y[i])\n",
        "                datasets[j + 1][\"block_ids\"].append(block_ids[i])\n",
        "                break  # Una vez asignado, salir del loop de cortes\n",
        "\n",
        "    # Guardar cada dataset en un archivo\n",
        "    for i, dataset in datasets.items():\n",
        "        # Generar el nombre del archivo con base en el corte\n",
        "        start_cut = cuts[i-1] + 1 if i > 1 else 1\n",
        "        end_cut = cuts[i]  # Cortes entre `cuts[i-1]` y `cuts[i]`\n",
        "\n",
        "        output_filename = f\"{start_cut}-{end_cut}.data\"\n",
        "        output_file_path = os.path.join(output_path, output_filename)\n",
        "\n",
        "        # Guardar el dataset en el archivo\n",
        "        with open(output_file_path, \"wb\") as f:\n",
        "            pickle.dump({\"X\": dataset[\"X\"], \"Y\": dataset[\"Y\"], \"block_ids\": dataset[\"block_ids\"]}, f)\n",
        "\n",
        "        print(f\"Dataset guardado en: {output_file_path}\")\n",
        "\n",
        "\n",
        "def remove_elements_with_zero(X, Y, blocks_ids):\n",
        "    # Crear una lista de índices a eliminar\n",
        "    indices_to_remove = []\n",
        "\n",
        "    # Recorre blocks_ids y encuentra los índices que contienen al menos un 0\n",
        "    for idx, arr in enumerate(blocks_ids):\n",
        "        if 0 in arr:\n",
        "            indices_to_remove.append(idx)\n",
        "\n",
        "    # Eliminar los elementos en X, Y y blocks_ids correspondientes a los índices encontrados\n",
        "    X_filtered = [x for i, x in enumerate(X) if i not in indices_to_remove]\n",
        "    Y_filtered = [y for i, y in enumerate(Y) if i not in indices_to_remove]\n",
        "    blocks_ids_filtered = [block for i, block in enumerate(blocks_ids) if i not in indices_to_remove]\n",
        "\n",
        "    return X_filtered, Y_filtered, blocks_ids_filtered"
      ]
    },
    {
      "cell_type": "code",
      "execution_count": null,
      "metadata": {
        "colab": {
          "base_uri": "https://localhost:8080/"
        },
        "id": "f6zqCtXCKgm_",
        "outputId": "45963a56-97ec-44f6-d38c-e4a5ad2c778c"
      },
      "outputs": [
        {
          "name": "stdout",
          "output_type": "stream",
          "text": [
            "Cloning into 'Metasolver'...\n",
            "remote: Enumerating objects: 60593, done.\u001b[K\n",
            "remote: Counting objects: 100% (230/230), done.\u001b[K\n",
            "remote: Compressing objects: 100% (70/70), done.\u001b[K\n",
            "remote: Total 60593 (delta 186), reused 161 (delta 160), pack-reused 60363 (from 3)\u001b[K\n",
            "Receiving objects: 100% (60593/60593), 573.42 MiB | 24.33 MiB/s, done.\n",
            "Resolving deltas: 100% (8796/8796), done.\n",
            "Updating files: 100% (7475/7475), done.\n"
          ]
        }
      ],
      "source": [
        "!git clone https://github.com/rilianx/Metasolver.git"
      ]
    },
    {
      "cell_type": "code",
      "execution_count": null,
      "metadata": {
        "id": "ZboFUcX6e_Mo"
      },
      "outputs": [],
      "source": [
        "run_file_instances_parallel(\"Metasolver/problems/clp/benchs/BR/BR1.txt\", exe_path=\"./BSG_CLP\", w=8)"
      ]
    },
    {
      "cell_type": "code",
      "execution_count": null,
      "metadata": {
        "colab": {
          "base_uri": "https://localhost:8080/",
          "height": 507
        },
        "id": "lYsip8FvisQT",
        "outputId": "5fcebe56-23dd-4033-95b1-eb24018b1c2d"
      },
      "outputs": [
        {
          "data": {
            "image/png": "[encoded data removed]",
            "text/plain": [
              "<Figure size 800x500 with 1 Axes>"
            ]
          },
          "metadata": {},
          "output_type": "display_data"
        }
      ],
      "source": [
        "acumr = accumulate_results_from_folder(\"BR1.out\")\n",
        "acumr = expand_to_x(acumr, 64)\n",
        "plot_cumulative_percentage(acumr)"
      ]
    },
    {
      "cell_type": "code",
      "execution_count": null,
      "metadata": {
        "id": "kGofs35BfhRe"
      },
      "outputs": [],
      "source": [
        "data = parse_file(\"BR1.out/BR1-0.out\")\n",
        "generate_train_data(data, pad=64)"
      ]
    },
    {
      "cell_type": "code",
      "execution_count": null,
      "metadata": {
        "id": "jw-d4r8ffmtF"
      },
      "outputs": [],
      "source": [
        "# Ejemplo de uso\n",
        "folder_path = \"BR1.out\"  # Carpeta que contiene los archivos\n",
        "generate_data_from_folder(folder_path, pad=64)"
      ]
    },
    {
      "cell_type": "code",
      "execution_count": null,
      "metadata": {
        "id": "kxX6XclUfpf1"
      },
      "outputs": [],
      "source": [
        "X, Y, blocks_ids = load_data_from_file(\"BR1.data\")\n",
        "print(len(X))\n",
        "print(len(Y))\n",
        "print(len(blocks_ids))"
      ]
    },
    {
      "cell_type": "code",
      "execution_count": null,
      "metadata": {
        "colab": {
          "base_uri": "https://localhost:8080/"
        },
        "id": "-FoLtbBLUrWz",
        "outputId": "83cafb07-1256-4da9-d7f4-44665a3c8ba3"
      },
      "outputs": [
        {
          "name": "stdout",
          "output_type": "stream",
          "text": [
            "Procesando archivo: BR1.data\n",
            "Dataset guardado en: BR1-datasets/1-1.data\n",
            "Dataset guardado en: BR1-datasets/2-7.data\n",
            "Dataset guardado en: BR1-datasets/8-64.data\n"
          ]
        }
      ],
      "source": [
        "# Ejemplo de uso\n",
        "file_path = \"BR1.data\"  # Archivo .data de entrada\n",
        "output_path = \"BR1-datasets\"  # Carpeta donde se guardarán los nuevos datasets\n",
        "cuts = [1, 7, 64]  # Los cortes\n",
        "\n",
        "split_and_save_datasets(file_path, cuts, output_path)"
      ]
    },
    {
      "cell_type": "code",
      "execution_count": null,
      "metadata": {
        "colab": {
          "base_uri": "https://localhost:8080/"
        },
        "id": "lWgXTxd_aM3Y",
        "outputId": "3faf1a82-d5be-494e-b9b1-487cb59cbd10"
      },
      "outputs": [
        {
          "data": {
            "text/plain": [
              "414"
            ]
          },
          "execution_count": 13,
          "metadata": {},
          "output_type": "execute_result"
        }
      ],
      "source": [
        "X, Y, blocks_ids = load_data_from_file(\"BR1-datasets/1-1.data\")\n",
        "len(X)"
      ]
    },
    {
      "cell_type": "code",
      "execution_count": null,
      "metadata": {
        "id": "-SAFI5Cmb6rB"
      },
      "outputs": [],
      "source": [
        "gen_instances(\"E4.txt\", n_instances=1000, n_types=10, seed=42)"
      ]
    },
    {
      "cell_type": "code",
      "execution_count": null,
      "metadata": {
        "colab": {
          "base_uri": "https://localhost:8080/",
          "height": 287
        },
        "id": "MywrBZnNcNzZ",
        "outputId": "b0b76f5b-682c-4c96-83ef-fc353c0139cf"
      },
      "outputs": [
        {
          "ename": "KeyboardInterrupt",
          "evalue": "",
          "output_type": "error",
          "traceback": [
            "\u001b[0;31m---------------------------------------------------------------------------\u001b[0m",
            "\u001b[0;31mKeyboardInterrupt\u001b[0m                         Traceback (most recent call last)",
            "\u001b[0;32m/tmp/ipython-input-4265358604.py\u001b[0m in \u001b[0;36m<cell line: 0>\u001b[0;34m()\u001b[0m\n\u001b[0;32m----> 1\u001b[0;31m \u001b[0mrun_file_instances_parallel\u001b[0m\u001b[0;34m(\u001b[0m\u001b[0;34m\"E4.txt\"\u001b[0m\u001b[0;34m,\u001b[0m \u001b[0mexe_path\u001b[0m\u001b[0;34m=\u001b[0m\u001b[0;34m\"./BSG_CLP\"\u001b[0m\u001b[0;34m,\u001b[0m \u001b[0mw\u001b[0m\u001b[0;34m=\u001b[0m\u001b[0;36m8\u001b[0m\u001b[0;34m)\u001b[0m\u001b[0;34m\u001b[0m\u001b[0;34m\u001b[0m\u001b[0m\n\u001b[0m",
            "\u001b[0;32m/tmp/ipython-input-2860138112.py\u001b[0m in \u001b[0;36mrun_file_instances_parallel\u001b[0;34m(file_path, exe_path, w, max_workers)\u001b[0m\n\u001b[1;32m    126\u001b[0m \u001b[0;34m\u001b[0m\u001b[0m\n\u001b[1;32m    127\u001b[0m     \u001b[0;31m# Ejecutar las instancias en paralelo\u001b[0m\u001b[0;34m\u001b[0m\u001b[0;34m\u001b[0m\u001b[0m\n\u001b[0;32m--> 128\u001b[0;31m     \u001b[0;32mwith\u001b[0m \u001b[0mProcessPoolExecutor\u001b[0m\u001b[0;34m(\u001b[0m\u001b[0mmax_workers\u001b[0m\u001b[0;34m=\u001b[0m\u001b[0mmax_workers\u001b[0m\u001b[0;34m)\u001b[0m \u001b[0;32mas\u001b[0m \u001b[0mexecutor\u001b[0m\u001b[0;34m:\u001b[0m\u001b[0;34m\u001b[0m\u001b[0;34m\u001b[0m\u001b[0m\n\u001b[0m\u001b[1;32m    129\u001b[0m         \u001b[0;32mfor\u001b[0m \u001b[0mi\u001b[0m \u001b[0;32min\u001b[0m \u001b[0mrange\u001b[0m\u001b[0;34m(\u001b[0m\u001b[0mnum_instances\u001b[0m\u001b[0;34m)\u001b[0m\u001b[0;34m:\u001b[0m\u001b[0;34m\u001b[0m\u001b[0;34m\u001b[0m\u001b[0m\n\u001b[1;32m    130\u001b[0m             \u001b[0mexecutor\u001b[0m\u001b[0;34m.\u001b[0m\u001b[0msubmit\u001b[0m\u001b[0;34m(\u001b[0m\u001b[0mrun_instance\u001b[0m\u001b[0;34m,\u001b[0m \u001b[0mexe_path\u001b[0m\u001b[0;34m,\u001b[0m \u001b[0mfile_path\u001b[0m\u001b[0;34m,\u001b[0m \u001b[0mi\u001b[0m\u001b[0;34m,\u001b[0m \u001b[0mw\u001b[0m\u001b[0;34m,\u001b[0m \u001b[0moutput_folder\u001b[0m\u001b[0;34m)\u001b[0m\u001b[0;34m\u001b[0m\u001b[0;34m\u001b[0m\u001b[0m\n",
            "\u001b[0;32m/usr/lib/python3.12/concurrent/futures/_base.py\u001b[0m in \u001b[0;36m__exit__\u001b[0;34m(self, exc_type, exc_val, exc_tb)\u001b[0m\n\u001b[1;32m    645\u001b[0m \u001b[0;34m\u001b[0m\u001b[0m\n\u001b[1;32m    646\u001b[0m     \u001b[0;32mdef\u001b[0m \u001b[0m__exit__\u001b[0m\u001b[0;34m(\u001b[0m\u001b[0mself\u001b[0m\u001b[0;34m,\u001b[0m \u001b[0mexc_type\u001b[0m\u001b[0;34m,\u001b[0m \u001b[0mexc_val\u001b[0m\u001b[0;34m,\u001b[0m \u001b[0mexc_tb\u001b[0m\u001b[0;34m)\u001b[0m\u001b[0;34m:\u001b[0m\u001b[0;34m\u001b[0m\u001b[0;34m\u001b[0m\u001b[0m\n\u001b[0;32m--> 647\u001b[0;31m         \u001b[0mself\u001b[0m\u001b[0;34m.\u001b[0m\u001b[0mshutdown\u001b[0m\u001b[0;34m(\u001b[0m\u001b[0mwait\u001b[0m\u001b[0;34m=\u001b[0m\u001b[0;32mTrue\u001b[0m\u001b[0;34m)\u001b[0m\u001b[0;34m\u001b[0m\u001b[0;34m\u001b[0m\u001b[0m\n\u001b[0m\u001b[1;32m    648\u001b[0m         \u001b[0;32mreturn\u001b[0m \u001b[0;32mFalse\u001b[0m\u001b[0;34m\u001b[0m\u001b[0;34m\u001b[0m\u001b[0m\n\u001b[1;32m    649\u001b[0m \u001b[0;34m\u001b[0m\u001b[0m\n",
            "\u001b[0;32m/usr/lib/python3.12/concurrent/futures/process.py\u001b[0m in \u001b[0;36mshutdown\u001b[0;34m(self, wait, cancel_futures)\u001b[0m\n\u001b[1;32m    863\u001b[0m \u001b[0;34m\u001b[0m\u001b[0m\n\u001b[1;32m    864\u001b[0m         \u001b[0;32mif\u001b[0m \u001b[0mself\u001b[0m\u001b[0;34m.\u001b[0m\u001b[0m_executor_manager_thread\u001b[0m \u001b[0;32mis\u001b[0m \u001b[0;32mnot\u001b[0m \u001b[0;32mNone\u001b[0m \u001b[0;32mand\u001b[0m \u001b[0mwait\u001b[0m\u001b[0;34m:\u001b[0m\u001b[0;34m\u001b[0m\u001b[0;34m\u001b[0m\u001b[0m\n\u001b[0;32m--> 865\u001b[0;31m             \u001b[0mself\u001b[0m\u001b[0;34m.\u001b[0m\u001b[0m_executor_manager_thread\u001b[0m\u001b[0;34m.\u001b[0m\u001b[0mjoin\u001b[0m\u001b[0;34m(\u001b[0m\u001b[0;34m)\u001b[0m\u001b[0;34m\u001b[0m\u001b[0;34m\u001b[0m\u001b[0m\n\u001b[0m\u001b[1;32m    866\u001b[0m         \u001b[0;31m# To reduce the risk of opening too many files, remove references to\u001b[0m\u001b[0;34m\u001b[0m\u001b[0;34m\u001b[0m\u001b[0m\n\u001b[1;32m    867\u001b[0m         \u001b[0;31m# objects that use file descriptors.\u001b[0m\u001b[0;34m\u001b[0m\u001b[0;34m\u001b[0m\u001b[0m\n",
            "\u001b[0;32m/usr/lib/python3.12/threading.py\u001b[0m in \u001b[0;36mjoin\u001b[0;34m(self, timeout)\u001b[0m\n\u001b[1;32m   1147\u001b[0m \u001b[0;34m\u001b[0m\u001b[0m\n\u001b[1;32m   1148\u001b[0m         \u001b[0;32mif\u001b[0m \u001b[0mtimeout\u001b[0m \u001b[0;32mis\u001b[0m \u001b[0;32mNone\u001b[0m\u001b[0;34m:\u001b[0m\u001b[0;34m\u001b[0m\u001b[0;34m\u001b[0m\u001b[0m\n\u001b[0;32m-> 1149\u001b[0;31m             \u001b[0mself\u001b[0m\u001b[0;34m.\u001b[0m\u001b[0m_wait_for_tstate_lock\u001b[0m\u001b[0;34m(\u001b[0m\u001b[0;34m)\u001b[0m\u001b[0;34m\u001b[0m\u001b[0;34m\u001b[0m\u001b[0m\n\u001b[0m\u001b[1;32m   1150\u001b[0m         \u001b[0;32melse\u001b[0m\u001b[0;34m:\u001b[0m\u001b[0;34m\u001b[0m\u001b[0;34m\u001b[0m\u001b[0m\n\u001b[1;32m   1151\u001b[0m             \u001b[0;31m# the behavior of a negative timeout isn't documented, but\u001b[0m\u001b[0;34m\u001b[0m\u001b[0;34m\u001b[0m\u001b[0m\n",
            "\u001b[0;32m/usr/lib/python3.12/threading.py\u001b[0m in \u001b[0;36m_wait_for_tstate_lock\u001b[0;34m(self, block, timeout)\u001b[0m\n\u001b[1;32m   1167\u001b[0m \u001b[0;34m\u001b[0m\u001b[0m\n\u001b[1;32m   1168\u001b[0m         \u001b[0;32mtry\u001b[0m\u001b[0;34m:\u001b[0m\u001b[0;34m\u001b[0m\u001b[0;34m\u001b[0m\u001b[0m\n\u001b[0;32m-> 1169\u001b[0;31m             \u001b[0;32mif\u001b[0m \u001b[0mlock\u001b[0m\u001b[0;34m.\u001b[0m\u001b[0macquire\u001b[0m\u001b[0;34m(\u001b[0m\u001b[0mblock\u001b[0m\u001b[0;34m,\u001b[0m \u001b[0mtimeout\u001b[0m\u001b[0;34m)\u001b[0m\u001b[0;34m:\u001b[0m\u001b[0;34m\u001b[0m\u001b[0;34m\u001b[0m\u001b[0m\n\u001b[0m\u001b[1;32m   1170\u001b[0m                 \u001b[0mlock\u001b[0m\u001b[0;34m.\u001b[0m\u001b[0mrelease\u001b[0m\u001b[0;34m(\u001b[0m\u001b[0;34m)\u001b[0m\u001b[0;34m\u001b[0m\u001b[0;34m\u001b[0m\u001b[0m\n\u001b[1;32m   1171\u001b[0m                 \u001b[0mself\u001b[0m\u001b[0;34m.\u001b[0m\u001b[0m_stop\u001b[0m\u001b[0;34m(\u001b[0m\u001b[0;34m)\u001b[0m\u001b[0;34m\u001b[0m\u001b[0;34m\u001b[0m\u001b[0m\n",
            "\u001b[0;31mKeyboardInterrupt\u001b[0m: "
          ]
        }
      ],
      "source": [
        "run_file_instances_parallel(\"E4.txt\", exe_path=\"./BSG_CLP\", w=8)"
      ]
    },
    {
      "cell_type": "code",
      "execution_count": null,
      "metadata": {
        "colab": {
          "base_uri": "https://localhost:8080/",
          "height": 53
        },
        "id": "L7BT8IXtyt6K",
        "outputId": "5e88b0f8-b524-46fc-bc89-8d5f827886b7"
      },
      "outputs": [
        {
          "name": "stdout",
          "output_type": "stream",
          "text": [
            "Datos guardados en: E4.data\n"
          ]
        },
        {
          "data": {
            "application/vnd.google.colaboratory.intrinsic+json": {
              "type": "string"
            },
            "text/plain": [
              "'E4.data'"
            ]
          },
          "execution_count": 36,
          "metadata": {},
          "output_type": "execute_result"
        }
      ],
      "source": [
        "generate_data_from_folder(\"E4.out\", pad=64)"
      ]
    },
    {
      "cell_type": "code",
      "execution_count": null,
      "metadata": {
        "colab": {
          "base_uri": "https://localhost:8080/"
        },
        "id": "3At4SS3f0JTu",
        "outputId": "5f518819-1212-4017-d09c-5ecc0fabd7a6"
      },
      "outputs": [
        {
          "name": "stdout",
          "output_type": "stream",
          "text": [
            "Procesando archivo: E4.data\n",
            "Dataset guardado en: E4-datasets/1-1.data\n",
            "Dataset guardado en: E4-datasets/2-7.data\n",
            "Dataset guardado en: E4-datasets/8-64.data\n"
          ]
        }
      ],
      "source": [
        "split_and_save_datasets(\"E4.data\", [1, 7, 64], \"E4-datasets\")"
      ]
    },
    {
      "cell_type": "code",
      "execution_count": null,
      "metadata": {
        "colab": {
          "base_uri": "https://localhost:8080/"
        },
        "id": "_vInM-a60dvs",
        "outputId": "133accfc-e902-41a5-9fb0-082284f52d4d"
      },
      "outputs": [
        {
          "data": {
            "text/plain": [
              "11387"
            ]
          },
          "execution_count": 38,
          "metadata": {},
          "output_type": "execute_result"
        }
      ],
      "source": [
        "X, Y, blocks_ids = load_data_from_file(\"E4-datasets/1-1.data\")\n",
        "len(X)"
      ]
    },
    {
      "cell_type": "code",
      "execution_count": null,
      "metadata": {
        "colab": {
          "base_uri": "https://localhost:8080/"
        },
        "id": "4rLUwpNZdRFk",
        "outputId": "b87cafe3-3b65-4813-c53c-087a5c87fa1c"
      },
      "outputs": [
        {
          "data": {
            "text/plain": [
              "4593"
            ]
          },
          "execution_count": 39,
          "metadata": {},
          "output_type": "execute_result"
        }
      ],
      "source": [
        "Xf, Yf, bf = remove_elements_with_zero(X, Y, blocks_ids)\n",
        "len(Xf)"
      ]
    },
    {
      "cell_type": "code",
      "execution_count": null,
      "metadata": {
        "colab": {
          "base_uri": "https://localhost:8080/"
        },
        "id": "wi0skqZX1F6a",
        "outputId": "cc1218fc-d648-4cb7-fdb0-63eab2b8289f"
      },
      "outputs": [
        {
          "name": "stdout",
          "output_type": "stream",
          "text": [
            "  adding: E4-datasets/ (stored 0%)\n",
            "  adding: E4-datasets/2-7.data (deflated 73%)\n",
            "  adding: E4-datasets/8-64.data (deflated 68%)\n",
            "  adding: E4-datasets/1-1.data (deflated 81%)\n"
          ]
        }
      ],
      "source": [
        "!zip -r E4-datasets.zip E4-datasets"
      ]
    },
    {
      "cell_type": "code",
      "source": [
        "!unzip E4-datasets.zip"
      ],
      "metadata": {
        "colab": {
          "base_uri": "https://localhost:8080/"
        },
        "id": "Vn9qRiQdatk-",
        "outputId": "ed792816-01bc-46c2-b92c-fb42908c5174"
      },
      "execution_count": 2,
      "outputs": [
        {
          "output_type": "stream",
          "name": "stdout",
          "text": [
            "Archive:  E4-datasets.zip\n",
            "   creating: E4-datasets/\n",
            "  inflating: E4-datasets/2-7.data    \n",
            "  inflating: E4-datasets/8-64.data   \n",
            "  inflating: E4-datasets/1-1.data    \n"
          ]
        }
      ]
    },
    {
      "cell_type": "markdown",
      "metadata": {
        "id": "UbNtZkPI8Ijs"
      },
      "source": [
        "# Modelo y entrenamiento"
      ]
    },
    {
      "cell_type": "code",
      "execution_count": 3,
      "metadata": {
        "colab": {
          "base_uri": "https://localhost:8080/"
        },
        "id": "K2q5XO5H8J5c",
        "outputId": "28311040-a8d5-4a0d-ac3e-a0aa6c304de0"
      },
      "outputs": [
        {
          "output_type": "stream",
          "name": "stdout",
          "text": [
            "CLPModel(\n",
            "  (input_projection): Linear(in_features=5, out_features=128, bias=True)\n",
            "  (layers): ModuleList(\n",
            "    (0-5): 6 x ModuleDict(\n",
            "      (multihead_attention): MultiheadAttention(\n",
            "        (out_proj): NonDynamicallyQuantizableLinear(in_features=128, out_features=128, bias=True)\n",
            "      )\n",
            "      (dense_layer): Sequential(\n",
            "        (0): Linear(in_features=128, out_features=512, bias=True)\n",
            "        (1): ReLU()\n",
            "        (2): Linear(in_features=512, out_features=128, bias=True)\n",
            "      )\n",
            "      (norm1): LayerNorm((128,), eps=1e-05, elementwise_affine=True)\n",
            "      (norm2): LayerNorm((128,), eps=1e-05, elementwise_affine=True)\n",
            "    )\n",
            "  )\n",
            "  (output_projection): Linear(in_features=128, out_features=1, bias=True)\n",
            ")\n"
          ]
        }
      ],
      "source": [
        "import torch\n",
        "import torch.nn as nn\n",
        "import torch.nn.functional as F\n",
        "\n",
        "class CLPModel(nn.Module):\n",
        "    def __init__(self, input_dim, num_heads, head_dim, num_layers=2, dropout_rate=0):\n",
        "        super(CLPModel, self).__init__()\n",
        "        self.num_heads = num_heads\n",
        "        self.head_dim = head_dim\n",
        "\n",
        "        # Proyección de entrada\n",
        "        self.input_projection = nn.Linear(input_dim, num_heads * head_dim)\n",
        "\n",
        "        # Crear múltiples capas de atención y densa\n",
        "        self.layers = nn.ModuleList([\n",
        "            nn.ModuleDict({\n",
        "                'multihead_attention': nn.MultiheadAttention(\n",
        "                    embed_dim=num_heads * head_dim,\n",
        "                    num_heads=num_heads,\n",
        "                    dropout=dropout_rate\n",
        "                ),\n",
        "                'dense_layer': nn.Sequential(\n",
        "                    nn.Linear(num_heads * head_dim, 512),\n",
        "                    nn.ReLU(),\n",
        "                    nn.Linear(512, num_heads * head_dim)\n",
        "                ),\n",
        "                'norm1': nn.LayerNorm(num_heads * head_dim),\n",
        "                'norm2': nn.LayerNorm(num_heads * head_dim)\n",
        "            }) for _ in range(num_layers)\n",
        "        ])\n",
        "\n",
        "        # Proyección de salida final\n",
        "        self.output_projection = nn.Linear(num_heads * head_dim, 1)\n",
        "\n",
        "    def generate_attention_mask(self, x, num_heads, padding_value=0):\n",
        "        # Identificar posiciones de padding en x\n",
        "        mask = (x.sum(dim=-1) == padding_value)  # [batch_size, seq_length]\n",
        "        mask = mask.unsqueeze(1).expand(-1, x.size(1), -1)\n",
        "        mask = mask.unsqueeze(1).expand(-1, num_heads, -1, -1)\n",
        "        mask = mask.reshape(-1, x.size(1), x.size(1))\n",
        "        mask = mask.to(dtype=torch.bool)\n",
        "        return mask\n",
        "\n",
        "    def forward(self, x):\n",
        "        # x: [batch_size, seq_length, input_dim]\n",
        "        x = x.float()\n",
        "\n",
        "        # Proyección de entrada\n",
        "        x_proj = self.input_projection(x)\n",
        "\n",
        "        # Generar máscara de atención\n",
        "        attn_mask = self.generate_attention_mask(x, self.num_heads)\n",
        "\n",
        "        # Aplicar cada capa de atención y densa\n",
        "        for layer in self.layers:\n",
        "            x_proj = x_proj.permute(1, 0, 2)\n",
        "            attn_output, _ = layer['multihead_attention'](\n",
        "                x_proj, x_proj, x_proj, attn_mask=attn_mask\n",
        "            )\n",
        "            attn_output = attn_output.permute(1, 0, 2)\n",
        "            x_proj = x_proj.permute(1, 0, 2)\n",
        "            attn_output = layer['norm1'](attn_output + x_proj)\n",
        "            dense_output = layer['dense_layer'](attn_output)\n",
        "            x_proj = layer['norm2'](dense_output + attn_output)\n",
        "\n",
        "        # Máscara para softmax\n",
        "        mask = torch.zeros_like(x, dtype=torch.bool)\n",
        "        mask = (x * ~mask).sum(dim=-1) == 0\n",
        "        mask = mask.to(dtype=torch.bool)\n",
        "\n",
        "        # Proyección de salida final (logits)\n",
        "        output = self.output_projection(x_proj)  # [batch_size, seq_length, num_classes]\n",
        "\n",
        "        # Flatten\n",
        "        flat_output = output.view(output.size(0), -1)  # [batch_size, seq_length]\n",
        "\n",
        "        # Enmascarar los logits antes de la pérdida: asignar un valor muy negativo a los logits en las posiciones no válidas\n",
        "        flat_output = flat_output.masked_fill(mask, -1e9)  # Asignar un valor muy negativo a las posiciones no válidas\n",
        "\n",
        "        return flat_output  # Retorna los logits (sin aplicar softmax)\n",
        "\n",
        "\n",
        "# Parámetros del modelo\n",
        "input_dim = 5  # Dimensión de la entrada\n",
        "num_heads = 8  # Número de cabezas en la atención multi-cabeza\n",
        "head_dim = 16  # Dimensión de cada cabeza\n",
        "num_layers = 6  # Número de capas\n",
        "\n",
        "# Crear el modelo\n",
        "model = CLPModel(input_dim=input_dim, num_heads=num_heads, head_dim=head_dim, num_layers=num_layers)\n",
        "\n",
        "# Información del modelo\n",
        "print(model)"
      ]
    },
    {
      "cell_type": "code",
      "execution_count": 4,
      "metadata": {
        "colab": {
          "base_uri": "https://localhost:8080/"
        },
        "id": "DKzr7e6n3G_s",
        "outputId": "46a8728d-40ea-4a03-85cf-11103d8b2404"
      },
      "outputs": [
        {
          "output_type": "stream",
          "name": "stdout",
          "text": [
            "torch.Size([500, 64, 4]) torch.Size([500, 64])\n"
          ]
        }
      ],
      "source": [
        "X, Y, blocks_ids = load_data_from_file(\"E4-datasets/1-1.data\")\n",
        "X, Y, _ = remove_elements_with_zero(X, Y, blocks_ids)\n",
        "X = torch.tensor(X[:500])\n",
        "Y = torch.tensor(Y[:500])\n",
        "\n",
        "print(X.shape, Y.shape)"
      ]
    },
    {
      "cell_type": "code",
      "execution_count": null,
      "metadata": {
        "colab": {
          "base_uri": "https://localhost:8080/",
          "height": 356
        },
        "id": "-8VmYzU64CH5",
        "outputId": "fb9dd772-ca35-4dd7-acde-ad80abd4475b"
      },
      "outputs": [
        {
          "ename": "AttributeError",
          "evalue": "'list' object has no attribute 'size'",
          "output_type": "error",
          "traceback": [
            "\u001b[0;31m---------------------------------------------------------------------------\u001b[0m",
            "\u001b[0;31mAttributeError\u001b[0m                            Traceback (most recent call last)",
            "\u001b[0;32m/tmp/ipython-input-1162773199.py\u001b[0m in \u001b[0;36m<cell line: 0>\u001b[0;34m()\u001b[0m\n\u001b[1;32m      2\u001b[0m \u001b[0;32mfrom\u001b[0m \u001b[0mtorch\u001b[0m\u001b[0;34m.\u001b[0m\u001b[0mutils\u001b[0m\u001b[0;34m.\u001b[0m\u001b[0mdata\u001b[0m \u001b[0;32mimport\u001b[0m \u001b[0mDataLoader\u001b[0m\u001b[0;34m,\u001b[0m \u001b[0mTensorDataset\u001b[0m\u001b[0;34m,\u001b[0m \u001b[0mrandom_split\u001b[0m\u001b[0;34m\u001b[0m\u001b[0;34m\u001b[0m\u001b[0m\n\u001b[1;32m      3\u001b[0m \u001b[0;34m\u001b[0m\u001b[0m\n\u001b[0;32m----> 4\u001b[0;31m \u001b[0mdataset\u001b[0m \u001b[0;34m=\u001b[0m \u001b[0mTensorDataset\u001b[0m\u001b[0;34m(\u001b[0m\u001b[0mX\u001b[0m\u001b[0;34m,\u001b[0m \u001b[0mY\u001b[0m\u001b[0;34m)\u001b[0m\u001b[0;34m\u001b[0m\u001b[0;34m\u001b[0m\u001b[0m\n\u001b[0m\u001b[1;32m      5\u001b[0m \u001b[0;34m\u001b[0m\u001b[0m\n\u001b[1;32m      6\u001b[0m \u001b[0;31m# Dividir el dataset en entrenamiento y prueba\u001b[0m\u001b[0;34m\u001b[0m\u001b[0;34m\u001b[0m\u001b[0m\n",
            "\u001b[0;32m/usr/local/lib/python3.12/dist-packages/torch/utils/data/dataset.py\u001b[0m in \u001b[0;36m__init__\u001b[0;34m(self, *tensors)\u001b[0m\n\u001b[1;32m    199\u001b[0m \u001b[0;34m\u001b[0m\u001b[0m\n\u001b[1;32m    200\u001b[0m     \u001b[0;32mdef\u001b[0m \u001b[0m__init__\u001b[0m\u001b[0;34m(\u001b[0m\u001b[0mself\u001b[0m\u001b[0;34m,\u001b[0m \u001b[0;34m*\u001b[0m\u001b[0mtensors\u001b[0m\u001b[0;34m:\u001b[0m \u001b[0mTensor\u001b[0m\u001b[0;34m)\u001b[0m \u001b[0;34m->\u001b[0m \u001b[0;32mNone\u001b[0m\u001b[0;34m:\u001b[0m\u001b[0;34m\u001b[0m\u001b[0;34m\u001b[0m\u001b[0m\n\u001b[0;32m--> 201\u001b[0;31m         assert all(\n\u001b[0m\u001b[1;32m    202\u001b[0m             \u001b[0mtensors\u001b[0m\u001b[0;34m[\u001b[0m\u001b[0;36m0\u001b[0m\u001b[0;34m]\u001b[0m\u001b[0;34m.\u001b[0m\u001b[0msize\u001b[0m\u001b[0;34m(\u001b[0m\u001b[0;36m0\u001b[0m\u001b[0;34m)\u001b[0m \u001b[0;34m==\u001b[0m \u001b[0mtensor\u001b[0m\u001b[0;34m.\u001b[0m\u001b[0msize\u001b[0m\u001b[0;34m(\u001b[0m\u001b[0;36m0\u001b[0m\u001b[0;34m)\u001b[0m \u001b[0;32mfor\u001b[0m \u001b[0mtensor\u001b[0m \u001b[0;32min\u001b[0m \u001b[0mtensors\u001b[0m\u001b[0;34m\u001b[0m\u001b[0;34m\u001b[0m\u001b[0m\n\u001b[1;32m    203\u001b[0m         ), \"Size mismatch between tensors\"\n",
            "\u001b[0;32m/usr/local/lib/python3.12/dist-packages/torch/utils/data/dataset.py\u001b[0m in \u001b[0;36m<genexpr>\u001b[0;34m(.0)\u001b[0m\n\u001b[1;32m    200\u001b[0m     \u001b[0;32mdef\u001b[0m \u001b[0m__init__\u001b[0m\u001b[0;34m(\u001b[0m\u001b[0mself\u001b[0m\u001b[0;34m,\u001b[0m \u001b[0;34m*\u001b[0m\u001b[0mtensors\u001b[0m\u001b[0;34m:\u001b[0m \u001b[0mTensor\u001b[0m\u001b[0;34m)\u001b[0m \u001b[0;34m->\u001b[0m \u001b[0;32mNone\u001b[0m\u001b[0;34m:\u001b[0m\u001b[0;34m\u001b[0m\u001b[0;34m\u001b[0m\u001b[0m\n\u001b[1;32m    201\u001b[0m         assert all(\n\u001b[0;32m--> 202\u001b[0;31m             \u001b[0mtensors\u001b[0m\u001b[0;34m[\u001b[0m\u001b[0;36m0\u001b[0m\u001b[0;34m]\u001b[0m\u001b[0;34m.\u001b[0m\u001b[0msize\u001b[0m\u001b[0;34m(\u001b[0m\u001b[0;36m0\u001b[0m\u001b[0;34m)\u001b[0m \u001b[0;34m==\u001b[0m \u001b[0mtensor\u001b[0m\u001b[0;34m.\u001b[0m\u001b[0msize\u001b[0m\u001b[0;34m(\u001b[0m\u001b[0;36m0\u001b[0m\u001b[0;34m)\u001b[0m \u001b[0;32mfor\u001b[0m \u001b[0mtensor\u001b[0m \u001b[0;32min\u001b[0m \u001b[0mtensors\u001b[0m\u001b[0;34m\u001b[0m\u001b[0;34m\u001b[0m\u001b[0m\n\u001b[0m\u001b[1;32m    203\u001b[0m         ), \"Size mismatch between tensors\"\n\u001b[1;32m    204\u001b[0m         \u001b[0mself\u001b[0m\u001b[0;34m.\u001b[0m\u001b[0mtensors\u001b[0m \u001b[0;34m=\u001b[0m \u001b[0mtensors\u001b[0m\u001b[0;34m\u001b[0m\u001b[0;34m\u001b[0m\u001b[0m\n",
            "\u001b[0;31mAttributeError\u001b[0m: 'list' object has no attribute 'size'"
          ]
        }
      ],
      "source": [
        "from sklearn.model_selection import train_test_split\n",
        "from torch.utils.data import DataLoader, TensorDataset, random_split\n",
        "\n",
        "dataset = TensorDataset(X, Y)\n",
        "\n",
        "# Dividir el dataset en entrenamiento y prueba\n",
        "train_size = int(0.5 * len(dataset))\n",
        "test_size = len(dataset) - train_size\n",
        "train_dataset, test_dataset = random_split(dataset, [train_size, test_size])"
      ]
    },
    {
      "cell_type": "code",
      "execution_count": null,
      "metadata": {
        "colab": {
          "base_uri": "https://localhost:8080/",
          "height": 211
        },
        "id": "fnvaKxlA4In4",
        "outputId": "b08528b3-acf3-4b62-d222-4af6c1ce22a4"
      },
      "outputs": [
        {
          "ename": "NameError",
          "evalue": "name 'train_dataset' is not defined",
          "output_type": "error",
          "traceback": [
            "\u001b[0;31m---------------------------------------------------------------------------\u001b[0m",
            "\u001b[0;31mNameError\u001b[0m                                 Traceback (most recent call last)",
            "\u001b[0;32m/tmp/ipython-input-2532131147.py\u001b[0m in \u001b[0;36m<cell line: 0>\u001b[0;34m()\u001b[0m\n\u001b[0;32m----> 1\u001b[0;31m \u001b[0mtrain_loader\u001b[0m \u001b[0;34m=\u001b[0m \u001b[0mDataLoader\u001b[0m\u001b[0;34m(\u001b[0m\u001b[0mtrain_dataset\u001b[0m\u001b[0;34m,\u001b[0m \u001b[0mbatch_size\u001b[0m\u001b[0;34m=\u001b[0m\u001b[0;36m64\u001b[0m\u001b[0;34m,\u001b[0m \u001b[0mshuffle\u001b[0m\u001b[0;34m=\u001b[0m\u001b[0;32mTrue\u001b[0m\u001b[0;34m)\u001b[0m\u001b[0;34m\u001b[0m\u001b[0;34m\u001b[0m\u001b[0m\n\u001b[0m\u001b[1;32m      2\u001b[0m \u001b[0mtest_loader\u001b[0m \u001b[0;34m=\u001b[0m \u001b[0mDataLoader\u001b[0m\u001b[0;34m(\u001b[0m\u001b[0mtest_dataset\u001b[0m\u001b[0;34m,\u001b[0m \u001b[0mbatch_size\u001b[0m\u001b[0;34m=\u001b[0m\u001b[0;36m64\u001b[0m\u001b[0;34m,\u001b[0m \u001b[0mshuffle\u001b[0m\u001b[0;34m=\u001b[0m\u001b[0;32mFalse\u001b[0m\u001b[0;34m)\u001b[0m\u001b[0;34m\u001b[0m\u001b[0;34m\u001b[0m\u001b[0m\n\u001b[1;32m      3\u001b[0m \u001b[0;34m\u001b[0m\u001b[0m\n\u001b[1;32m      4\u001b[0m \u001b[0;31m# Definir el modelo, la función de pérdida y el optimizador\u001b[0m\u001b[0;34m\u001b[0m\u001b[0;34m\u001b[0m\u001b[0m\n\u001b[1;32m      5\u001b[0m \u001b[0mloss_function\u001b[0m \u001b[0;34m=\u001b[0m \u001b[0mtorch\u001b[0m\u001b[0;34m.\u001b[0m\u001b[0mnn\u001b[0m\u001b[0;34m.\u001b[0m\u001b[0mCrossEntropyLoss\u001b[0m\u001b[0;34m(\u001b[0m\u001b[0;34m)\u001b[0m  \u001b[0;31m# Pérdida sin reducción\u001b[0m\u001b[0;34m\u001b[0m\u001b[0;34m\u001b[0m\u001b[0m\n",
            "\u001b[0;31mNameError\u001b[0m: name 'train_dataset' is not defined"
          ]
        }
      ],
      "source": [
        "train_loader = DataLoader(train_dataset, batch_size=64, shuffle=True)\n",
        "test_loader = DataLoader(test_dataset, batch_size=64, shuffle=False)\n",
        "\n",
        "# Definir el modelo, la función de pérdida y el optimizador\n",
        "loss_function = torch.nn.CrossEntropyLoss()  # Pérdida sin reducción\n",
        "optimizer = torch.optim.Adam(model.parameters(), lr=1e-4)\n",
        "\n",
        "# Ciclo de entrenamiento\n",
        "epochs = 1\n",
        "\n",
        "history = {split: {'loss': [], 'acc': []} for split in ['train', 'val']}\n",
        "\n",
        "for epoch in range(epochs):\n",
        "    model.train()\n",
        "    train_loss = 0\n",
        "    correct = 0; total = 0\n",
        "    for X_batch, y_batch in train_loader:\n",
        "        optimizer.zero_grad()  # Limpia los gradientes\n",
        "        outputs = model(X_batch)  # Obtenemos logits\n",
        "\n",
        "        # Calcular la pérdida para cada elemento en el batch\n",
        "        loss = loss_function(outputs, y_batch.argmax(dim=-1))\n",
        "\n",
        "        loss.backward()  # Backward pass\n",
        "        optimizer.step()  # Actualizar parámetros\n",
        "\n",
        "        train_loss += loss.item() * X_batch.size(0)\n",
        "        _, predicted = torch.max(outputs.data, 1)\n",
        "        total += y_batch.size(0)\n",
        "        correct += (predicted == y_batch.argmax(dim=1)).sum().item()\n",
        "\n",
        "    train_loss /= len(train_loader.dataset)\n",
        "    train_accuracy = 100 * correct / total\n",
        "    history['train']['loss'].append(train_loss)\n",
        "    history['train']['acc'].append(train_accuracy)\n",
        "\n",
        "    # Validación\n",
        "    model.eval()\n",
        "    validation_loss = 0\n",
        "    correct = 0; total = 0\n",
        "    with torch.no_grad():\n",
        "        for X_batch, y_batch in test_loader:\n",
        "            outputs = model(X_batch)  # Obtenemos logits\n",
        "\n",
        "            # Calcular la pérdida para cada elemento en el batch (sin reducción)\n",
        "            loss = loss_function(outputs, y_batch.argmax(dim=-1))\n",
        "\n",
        "            validation_loss += loss.item() * X_batch.size(0)\n",
        "            _, predicted = torch.max(outputs.data, 1)\n",
        "            total += y_batch.size(0)\n",
        "            correct += (predicted == y_batch.argmax(dim=1)).sum().item()\n",
        "\n",
        "    validation_loss /= len(test_loader.dataset)\n",
        "    validation_accuracy = 100 * correct / total\n",
        "    history['val']['loss'].append(validation_loss)\n",
        "    history['val']['acc'].append(validation_accuracy)\n",
        "\n",
        "    print(f'Epoch {epoch+1}, Train Loss: {train_loss:.4f}, Train Accuracy: {train_accuracy:.2f}%')\n",
        "    print(f'Epoch {epoch+1}, Val Loss: {validation_loss:.4f}, Val Accuracy: {validation_accuracy:.2f}%')"
      ]
    },
    {
      "cell_type": "code",
      "execution_count": 8,
      "metadata": {
        "id": "Xpwr5dSpsS0r"
      },
      "outputs": [],
      "source": [
        "import torch\n",
        "from torch.utils.data import DataLoader, TensorDataset, random_split\n",
        "import numpy as np\n",
        "from sklearn.preprocessing import StandardScaler\n",
        "from math import log\n",
        "\n",
        "def normalize_input(X):\n",
        "    # features = [V, Loss, CS, 1/n]\n",
        "\n",
        "    # Pasar a escala logarítmica\n",
        "    '''\n",
        "    for input in X:\n",
        "        for fvector in input:\n",
        "            # Convertir Loss a (1 - Loss)\n",
        "            fvector[1] = 1 - fvector[1]\n",
        "\n",
        "            for i in range(len(fvector)):\n",
        "                fvector[i] = log(fvector[i], 10) if fvector[i] > 0 else 999999\n",
        "    '''\n",
        "\n",
        "    # Escalar con StandardScaler\n",
        "    # X shape: [num_ejemplos, num_acciones, 4]\n",
        "    X = np.array(X, dtype=np.float32)\n",
        "\n",
        "    # Aplano a 2D\n",
        "    X_flat = X.reshape(-1, X.shape[-1])  # [num_ejemplos*num_acciones, 4]\n",
        "\n",
        "    # Fit/transform\n",
        "    scaler = StandardScaler()\n",
        "    X_scaled = scaler.fit_transform(X_flat)\n",
        "\n",
        "    # Vuelvo a la forma original\n",
        "    X = X_scaled.reshape(-1, X.shape[1], X.shape[2])\n",
        "    return X\n",
        "\n",
        "\n",
        "def curriculum_learning(model, datasets, epochs, weights, train_size, test_size, batch_size, learning_rate):\n",
        "    # Cargar los datasets\n",
        "    data = []\n",
        "    for dataset in datasets:\n",
        "        X, Y, blocks_ids = load_data_from_file(dataset)\n",
        "        X, Y, _ = remove_elements_with_zero(X, Y, blocks_ids)\n",
        "        X = normalize_input(X)\n",
        "        X = torch.tensor(X)\n",
        "        Y = torch.tensor(Y)\n",
        "        data.append((X, Y))\n",
        "\n",
        "    # Inicializar el modelo, la función de pérdida y el optimizador\n",
        "    loss_function = torch.nn.CrossEntropyLoss()\n",
        "    optimizer = torch.optim.Adam(model.parameters(), lr=learning_rate)\n",
        "\n",
        "    # Histórico de métricas\n",
        "    history = {split: {'loss': [], 'acc': []} for split in ['train', 'val']}\n",
        "\n",
        "    # Ciclo de entrenamiento por fases\n",
        "    for phase_idx in range(len(datasets)):\n",
        "        # Determinar la distribución de los datasets por fase\n",
        "        total_weight = sum(weights[:phase_idx + 1])\n",
        "        weights_normalized = [w / total_weight for w in weights[:phase_idx + 1]]\n",
        "\n",
        "        # Crear DataLoaders para los datasets de la fase\n",
        "        train_loader_list = []\n",
        "        test_loader_list = []\n",
        "\n",
        "        # Para cada dataset en la fase, usar su peso para determinar la cantidad de muestras\n",
        "        for idx, (X, Y) in enumerate(data[:phase_idx + 1]):\n",
        "            weight = weights_normalized[idx]\n",
        "\n",
        "            # Número de muestras para el conjunto de entrenamiento y validación (según peso)\n",
        "            num_train_samples = int(weight * train_size)\n",
        "            num_test_samples = int(weight * test_size)\n",
        "\n",
        "            # Crear un dataset general\n",
        "            dataset = TensorDataset(X, Y)\n",
        "\n",
        "            # Separar los datos para entrenamiento y prueba sin solapamiento\n",
        "            # Primero obtenemos el conjunto de entrenamiento\n",
        "            train_dataset, remaining_dataset = random_split(dataset, [num_train_samples, len(dataset) - num_train_samples])\n",
        "\n",
        "            # Luego, del resto de datos, obtenemos el conjunto de prueba\n",
        "            test_dataset, _ = random_split(remaining_dataset, [num_test_samples, len(remaining_dataset) - num_test_samples])\n",
        "\n",
        "            # Crear los DataLoader para cada dataset\n",
        "            train_loader_list.append(DataLoader(train_dataset, batch_size=batch_size, shuffle=True))\n",
        "            test_loader_list.append(DataLoader(test_dataset, batch_size=batch_size, shuffle=False))\n",
        "\n",
        "        # Ciclo de entrenamiento para cada fase\n",
        "        for epoch in range(epochs[phase_idx]):\n",
        "            model.train()\n",
        "            train_loss = 0\n",
        "            correct = 0\n",
        "            total = 0\n",
        "\n",
        "            # Combinar los datos de los datasets para el conjunto de entrenamiento\n",
        "            current_train_loader = []\n",
        "            for loader in train_loader_list:\n",
        "                current_train_loader.extend(loader)\n",
        "\n",
        "            # Entrenamiento\n",
        "            for X_batch, y_batch in current_train_loader:\n",
        "                optimizer.zero_grad()\n",
        "                outputs = model(X_batch)\n",
        "                loss = loss_function(outputs, y_batch.argmax(dim=-1))\n",
        "                loss.backward()\n",
        "                optimizer.step()\n",
        "\n",
        "                train_loss += loss.item() * X_batch.size(0)\n",
        "                _, predicted = torch.max(outputs.data, 1)\n",
        "                total += y_batch.size(0)\n",
        "                correct += (predicted == y_batch.argmax(dim=1)).sum().item()\n",
        "\n",
        "            train_loss /= total  # Promedio de la pérdida\n",
        "            train_accuracy = 100 * correct / total\n",
        "            history['train']['loss'].append(train_loss)\n",
        "            history['train']['acc'].append(train_accuracy)\n",
        "\n",
        "            # Validación\n",
        "            model.eval()\n",
        "            validation_loss = 0\n",
        "            correct = 0\n",
        "            total = 0\n",
        "            with torch.no_grad():\n",
        "                current_test_loader = []\n",
        "                for loader in test_loader_list:\n",
        "                    current_test_loader.extend(loader)\n",
        "\n",
        "                for X_batch, y_batch in current_test_loader:\n",
        "                    outputs = model(X_batch)\n",
        "                    loss = loss_function(outputs, y_batch.argmax(dim=-1))\n",
        "                    validation_loss += loss.item() * X_batch.size(0)\n",
        "                    _, predicted = torch.max(outputs.data, 1)\n",
        "                    total += y_batch.size(0)\n",
        "                    correct += (predicted == y_batch.argmax(dim=1)).sum().item()\n",
        "\n",
        "            validation_loss /= total\n",
        "            validation_accuracy = 100 * correct / total\n",
        "            history['val']['loss'].append(validation_loss)\n",
        "            history['val']['acc'].append(validation_accuracy)\n",
        "\n",
        "            print(f'Epoch {epoch + 1}/{epochs[phase_idx]}, Phase {phase_idx + 1} - Train Loss: {train_loss:.4f}, Train Accuracy: {train_accuracy:.2f}%')\n",
        "            print(f'Epoch {epoch + 1}/{epochs[phase_idx]}, Phase {phase_idx + 1} - Val Loss: {validation_loss:.4f}, Val Accuracy: {validation_accuracy:.2f}%')\n",
        "\n",
        "    return history"
      ]
    },
    {
      "cell_type": "code",
      "execution_count": 9,
      "metadata": {
        "id": "j7jc2TriuO46"
      },
      "outputs": [],
      "source": [
        "# Parámetros del modelo\n",
        "input_dim = 4  # Dimensión de la entrada\n",
        "num_heads = 8  # Número de cabezas en la atención multi-cabeza\n",
        "head_dim = 16  # Dimensión de cada cabeza\n",
        "num_layers = 6  # Número de capas\n",
        "\n",
        "# Crear el modelo\n",
        "model = CLPModel(input_dim=input_dim, num_heads=num_heads, head_dim=head_dim, num_layers=num_layers)"
      ]
    },
    {
      "cell_type": "code",
      "execution_count": 13,
      "metadata": {
        "colab": {
          "base_uri": "https://localhost:8080/"
        },
        "id": "JQOLXGxntcx9",
        "outputId": "a5bc1fdc-3937-4639-d984-14c98c342059"
      },
      "outputs": [
        {
          "output_type": "stream",
          "name": "stdout",
          "text": [
            "Epoch 1/20, Phase 2 - Train Loss: 1.4759, Train Accuracy: 73.33%\n",
            "Epoch 1/20, Phase 2 - Val Loss: 1.2945, Val Accuracy: 66.33%\n",
            "Epoch 2/20, Phase 2 - Train Loss: 1.2145, Train Accuracy: 73.42%\n",
            "Epoch 2/20, Phase 2 - Val Loss: 1.1686, Val Accuracy: 67.67%\n",
            "Epoch 3/20, Phase 2 - Train Loss: 1.2162, Train Accuracy: 73.50%\n",
            "Epoch 3/20, Phase 2 - Val Loss: 1.0980, Val Accuracy: 68.67%\n",
            "Epoch 4/20, Phase 2 - Train Loss: 1.1830, Train Accuracy: 74.42%\n",
            "Epoch 4/20, Phase 2 - Val Loss: 1.1203, Val Accuracy: 69.00%\n",
            "Epoch 5/20, Phase 2 - Train Loss: 1.2407, Train Accuracy: 74.83%\n",
            "Epoch 5/20, Phase 2 - Val Loss: 1.1383, Val Accuracy: 68.33%\n",
            "Epoch 6/20, Phase 2 - Train Loss: 1.2236, Train Accuracy: 73.67%\n",
            "Epoch 6/20, Phase 2 - Val Loss: 1.1862, Val Accuracy: 67.33%\n",
            "Epoch 7/20, Phase 2 - Train Loss: 1.1902, Train Accuracy: 74.42%\n",
            "Epoch 7/20, Phase 2 - Val Loss: 1.1103, Val Accuracy: 68.00%\n",
            "Epoch 8/20, Phase 2 - Train Loss: 1.1299, Train Accuracy: 75.50%\n",
            "Epoch 8/20, Phase 2 - Val Loss: 1.1242, Val Accuracy: 68.00%\n",
            "Epoch 9/20, Phase 2 - Train Loss: 1.1202, Train Accuracy: 75.58%\n",
            "Epoch 9/20, Phase 2 - Val Loss: 1.1261, Val Accuracy: 67.00%\n",
            "Epoch 10/20, Phase 2 - Train Loss: 1.1148, Train Accuracy: 76.00%\n",
            "Epoch 10/20, Phase 2 - Val Loss: 1.1146, Val Accuracy: 67.67%\n",
            "Epoch 11/20, Phase 2 - Train Loss: 1.1107, Train Accuracy: 75.75%\n",
            "Epoch 11/20, Phase 2 - Val Loss: 1.1166, Val Accuracy: 68.33%\n",
            "Epoch 12/20, Phase 2 - Train Loss: 1.0757, Train Accuracy: 76.00%\n",
            "Epoch 12/20, Phase 2 - Val Loss: 1.1961, Val Accuracy: 65.00%\n",
            "Epoch 13/20, Phase 2 - Train Loss: 1.0926, Train Accuracy: 75.92%\n",
            "Epoch 13/20, Phase 2 - Val Loss: 1.2114, Val Accuracy: 65.67%\n",
            "Epoch 14/20, Phase 2 - Train Loss: 1.0839, Train Accuracy: 75.25%\n",
            "Epoch 14/20, Phase 2 - Val Loss: 1.0803, Val Accuracy: 70.00%\n",
            "Epoch 15/20, Phase 2 - Train Loss: 1.0694, Train Accuracy: 77.17%\n",
            "Epoch 15/20, Phase 2 - Val Loss: 1.1234, Val Accuracy: 68.33%\n",
            "Epoch 16/20, Phase 2 - Train Loss: 1.1045, Train Accuracy: 76.33%\n",
            "Epoch 16/20, Phase 2 - Val Loss: 1.1536, Val Accuracy: 67.00%\n",
            "Epoch 17/20, Phase 2 - Train Loss: 1.0278, Train Accuracy: 76.92%\n",
            "Epoch 17/20, Phase 2 - Val Loss: 1.1353, Val Accuracy: 66.67%\n",
            "Epoch 18/20, Phase 2 - Train Loss: 1.0630, Train Accuracy: 77.25%\n",
            "Epoch 18/20, Phase 2 - Val Loss: 1.3208, Val Accuracy: 63.67%\n",
            "Epoch 19/20, Phase 2 - Train Loss: 1.0106, Train Accuracy: 76.75%\n",
            "Epoch 19/20, Phase 2 - Val Loss: 1.2128, Val Accuracy: 63.33%\n",
            "Epoch 20/20, Phase 2 - Train Loss: 0.9964, Train Accuracy: 77.42%\n",
            "Epoch 20/20, Phase 2 - Val Loss: 1.2802, Val Accuracy: 64.67%\n"
          ]
        },
        {
          "output_type": "execute_result",
          "data": {
            "text/plain": [
              "{'train': {'loss': [1.4759207248687745,\n",
              "   1.2144553073247273,\n",
              "   1.2162444837888082,\n",
              "   1.1830488626162212,\n",
              "   1.2407187481721242,\n",
              "   1.2235941394170124,\n",
              "   1.1902378837267558,\n",
              "   1.1299270296096802,\n",
              "   1.1201626014709474,\n",
              "   1.114825999736786,\n",
              "   1.110683526992798,\n",
              "   1.0757223645846048,\n",
              "   1.0925645661354064,\n",
              "   1.0838728332519532,\n",
              "   1.0694393765926362,\n",
              "   1.1044625250498454,\n",
              "   1.0277729475498198,\n",
              "   1.063039231300354,\n",
              "   1.010594958861669,\n",
              "   0.9964226281642914],\n",
              "  'acc': [73.33333333333333,\n",
              "   73.41666666666667,\n",
              "   73.5,\n",
              "   74.41666666666667,\n",
              "   74.83333333333333,\n",
              "   73.66666666666667,\n",
              "   74.41666666666667,\n",
              "   75.5,\n",
              "   75.58333333333333,\n",
              "   76.0,\n",
              "   75.75,\n",
              "   76.0,\n",
              "   75.91666666666667,\n",
              "   75.25,\n",
              "   77.16666666666667,\n",
              "   76.33333333333333,\n",
              "   76.91666666666667,\n",
              "   77.25,\n",
              "   76.75,\n",
              "   77.41666666666667]},\n",
              " 'val': {'loss': [1.2944805749257406,\n",
              "   1.1686315822601319,\n",
              "   1.097958917617798,\n",
              "   1.1203376865386963,\n",
              "   1.138338181177775,\n",
              "   1.1862380282084146,\n",
              "   1.1102726904551188,\n",
              "   1.1241958300272623,\n",
              "   1.1261176331837972,\n",
              "   1.114614617029826,\n",
              "   1.1165722370147706,\n",
              "   1.1960604413350424,\n",
              "   1.211432129542033,\n",
              "   1.0803258991241456,\n",
              "   1.1233697350819905,\n",
              "   1.1536449337005614,\n",
              "   1.1352694861094157,\n",
              "   1.320770591100057,\n",
              "   1.2127533721923829,\n",
              "   1.280219144821167],\n",
              "  'acc': [66.33333333333333,\n",
              "   67.66666666666667,\n",
              "   68.66666666666667,\n",
              "   69.0,\n",
              "   68.33333333333333,\n",
              "   67.33333333333333,\n",
              "   68.0,\n",
              "   68.0,\n",
              "   67.0,\n",
              "   67.66666666666667,\n",
              "   68.33333333333333,\n",
              "   65.0,\n",
              "   65.66666666666667,\n",
              "   70.0,\n",
              "   68.33333333333333,\n",
              "   67.0,\n",
              "   66.66666666666667,\n",
              "   63.666666666666664,\n",
              "   63.333333333333336,\n",
              "   64.66666666666667]}}"
            ]
          },
          "metadata": {},
          "execution_count": 13
        }
      ],
      "source": [
        "datasets = [\"E4-datasets/1-1.data\", \"E4-datasets/2-7.data\", \"E4-datasets/8-64.data\"]\n",
        "epochs = [0, 20, 0]\n",
        "weights = [4, 1, 1]\n",
        "train_size = 1200\n",
        "test_size = 300\n",
        "batch_size = 32\n",
        "learning_rate = 1e-4\n",
        "\n",
        "curriculum_learning(model, datasets, epochs, weights, train_size, test_size, batch_size, learning_rate)"
      ]
    },
    {
      "cell_type": "markdown",
      "metadata": {
        "id": "-XjzvruUaC65"
      },
      "source": [
        "# Ejecutable (testing)"
      ]
    },
    {
      "cell_type": "code",
      "execution_count": null,
      "metadata": {
        "id": "hrcF73EYMUHA"
      },
      "outputs": [],
      "source": [
        "!git clone https://github.com/rilianx/Metasolver.git"
      ]
    },
    {
      "cell_type": "code",
      "execution_count": null,
      "metadata": {
        "id": "fwWxcDFfMlDA"
      },
      "outputs": [],
      "source": [
        "!cmake .\n",
        "!make"
      ]
    },
    {
      "cell_type": "code",
      "execution_count": null,
      "metadata": {
        "id": "ECFvgjggShuj"
      },
      "outputs": [],
      "source": [
        "!./BSG_CLP --help"
      ]
    },
    {
      "cell_type": "code",
      "execution_count": null,
      "metadata": {
        "id": "wJaZdyDlWJW2"
      },
      "outputs": [],
      "source": [
        "!./BSG_CLP prueba.txt -i 1 -w 8 --verbose2=64"
      ]
    }
  ],
  "metadata": {
    "colab": {
      "provenance": [],
      "authorship_tag": "ABX9TyOKLUNOLt765P9F43G0mLrW",
      "include_colab_link": true
    },
    "kernelspec": {
      "display_name": "Python 3",
      "name": "python3"
    },
    "language_info": {
      "name": "python"
    }
  },
  "nbformat": 4,
  "nbformat_minor": 0
}